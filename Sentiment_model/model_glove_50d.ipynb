{
 "cells": [
  {
   "cell_type": "code",
   "execution_count": 1,
   "metadata": {},
   "outputs": [],
   "source": [
    "import math\n",
    "import numpy as np\n",
    "import matplotlib.pyplot as plt\n",
    "import random\n",
    "from sklearn.model_selection import train_test_split\n",
    "import pandas as pd\n",
    "from sklearn.utils import shuffle\n",
    "import time\n",
    "import scipy.io\n",
    "%matplotlib inline"
   ]
  },
  {
   "cell_type": "markdown",
   "metadata": {},
   "source": [
    "## Model"
   ]
  },
  {
   "cell_type": "code",
   "execution_count": 2,
   "metadata": {},
   "outputs": [],
   "source": [
    "def sigmoid(x):\n",
    "    return 1 / (1 + np.exp(-x))\n",
    "\n",
    "def sigmoid_prime(x):\n",
    "    return sigmoid(x) * (1 - sigmoid(x))\n",
    "\n",
    "def tanh_prime(x):\n",
    "    return 1 - np.tanh(x)**2\n",
    "\n",
    "def relu_prime(x):\n",
    "    return np.where(x > 0, 1, 0)"
   ]
  },
  {
   "cell_type": "code",
   "execution_count": 3,
   "metadata": {},
   "outputs": [],
   "source": [
    "class QuadraticCost(object):\n",
    "    @staticmethod\n",
    "    def fn(a, y):\n",
    "        return 0.5 * np.linalg.norm(a-y)**2\n",
    "\n",
    "    @staticmethod\n",
    "    def delta(z, a, y):\n",
    "        return (a-y) * tanh_prime(z)\n",
    "    \n",
    "class CrossEntropyCost(object):\n",
    "    @staticmethod\n",
    "    def fn(a, y):\n",
    "        return np.sum(np.nan_to_num(-y*np.log(a)-(1-y)*np.log(1-a)))\n",
    "    \n",
    "    @staticmethod\n",
    "    def delta(z, a, y):\n",
    "        return (a-y)\n",
    "    \n",
    "class Sigmoid(object):\n",
    "    @staticmethod\n",
    "    def activate(z):\n",
    "        return 1.0/(1.0+np.exp(-z))\n",
    "    \n",
    "    @staticmethod\n",
    "    def delta(z):\n",
    "        return sigmoid(z)*(1-sigmoid(z))\n",
    "    \n",
    "class Tanh(object):\n",
    "    @staticmethod\n",
    "    def activate(z):\n",
    "        return np.tanh(z)\n",
    "    \n",
    "    @staticmethod\n",
    "    def delta(z):\n",
    "        return 1.0 - np.tanh(z)**2\n",
    "    \n",
    "class ReLU(object):\n",
    "    @staticmethod\n",
    "    def activate(z):\n",
    "        return np.maximum(0, z)\n",
    "    \n",
    "    @staticmethod\n",
    "    def delta(z):\n",
    "        return np.where(z > 0, 1, 0)\n",
    "    \n",
    "class Network(object):\n",
    "    def __init__(self, sizes, cost=CrossEntropyCost, func=Sigmoid):\n",
    "        self.num_layers = len(sizes)\n",
    "        self.sizes = sizes\n",
    "        self.weight_initializer()\n",
    "        self.cost=cost\n",
    "        self.func=func\n",
    "\n",
    "    def weight_initializer(self):\n",
    "        self.weights = [np.random.randn(y, x) for x, y in zip(self.sizes[:-1], self.sizes[1:])]\n",
    "        self.biases = [np.random.randn(y, 1) for y in self.sizes[1:]]\n",
    "\n",
    "    def feedforward(self, a):\n",
    "        for b, w in zip(self.biases, self.weights):\n",
    "            a = (self.func).activate(np.dot(w, a)+b)\n",
    "        return a\n",
    "    \n",
    "    def train(self, training_data, epochs, learning_rate, save=False):\n",
    "        n = len(training_data)\n",
    "        log_file = open(\"log.txt\", \"w\")  # records loss for each epoch\n",
    "        log_file.write(\"Number of epochs: %d, Learning rate: %f\\n\" % (epochs, learning_rate))\n",
    "    \n",
    "        # perform gradient check using numerical approximation\n",
    "        # self.gradient_check(training_data)\n",
    "\n",
    "        # Initialize a list to store loss for each epoch\n",
    "        losses = []\n",
    "    \n",
    "        for j in range(epochs):\n",
    "            error_b = [np.zeros(b.shape) for b in self.biases]\n",
    "            error_w = [np.zeros(w.shape) for w in self.weights]\n",
    "            for (x, y) in training_data:\n",
    "                delta_error_b, delta_error_w = self.backprop(x, y)\n",
    "                error_b = [(eb+deb/n) for eb, deb in zip(error_b, delta_error_b)]\n",
    "                error_w = [(ew+dew/n) for ew, dew in zip(error_w, delta_error_w)]\n",
    "    \n",
    "            loss = self.loss(training_data)\n",
    "            log_file.write(\"Epoch %d: %f\\n\" % (j, loss))\n",
    "            log_file.flush()  # Flush the file to disk after writing each line\n",
    "            losses.append(loss)\n",
    "    \n",
    "            self.weights = [w-learning_rate*ew for w, ew in zip(self.weights, error_w)]\n",
    "            self.biases = [b-learning_rate*eb for b, eb in zip(self.biases, error_b)]                \n",
    "    \n",
    "        log_file.close()\n",
    "\n",
    "        if save:\n",
    "            self.save(\"model.txt\")\n",
    "\n",
    "    def backprop(self, x, y):\n",
    "        error_b = [np.zeros(b.shape) for b in self.biases]\n",
    "        error_w = [np.zeros(w.shape) for w in self.weights]\n",
    "        activation = x\n",
    "        activations = [x]\n",
    "        zs = []\n",
    "        for b, w in zip(self.biases, self.weights):\n",
    "            z = np.dot(w, activation)+b\n",
    "            zs.append(z)\n",
    "            activation = (self.func).activate(z)\n",
    "            activations.append(activation)\n",
    "        delta = (self.cost).delta(zs[-1], activations[-1], y)\n",
    "        error_w[-1] = np.dot(delta, activations[-2].transpose())\n",
    "        error_b[-1] = delta\n",
    "        for l in range(2, self.num_layers):\n",
    "            z = zs[-l]\n",
    "            sp = (self.func).delta(z)\n",
    "            delta = np.dot(self.weights[-l+1].transpose(), delta) * sp\n",
    "            error_w[-l] = np.dot(delta, activations[-l-1].transpose())\n",
    "            error_b[-l] = delta\n",
    "        return (error_b, error_w)\n",
    "    \n",
    "    def loss(self, data):\n",
    "        loss = 0\n",
    "        for x, y in data:\n",
    "            a = self.feedforward(x)\n",
    "            # if convert: y = vectorized_result(y)\n",
    "            loss += self.cost.fn(a, y)/len(data)\n",
    "        return loss\n",
    "    \n",
    "    def save(self, filename):\n",
    "        # save with the following format: sizes, weights, biases, cost, func line by line\n",
    "        with open(filename, \"w\") as f:\n",
    "            f.write(\"%s\\n\" % self.sizes)\n",
    "            for w in self.weights:\n",
    "                for row in w:\n",
    "                    f.write(\"%s\\n\" % row)\n",
    "            for b in self.biases:\n",
    "                for row in b:\n",
    "                    f.write(\"%s\\n\" % row)\n",
    "            f.write(\"%s\\n\" % self.cost)\n",
    "            f.write(\"%s\\n\" % self.func)\n",
    "        f.close()\n",
    "\n",
    "    def test(self, test_data, error=False):\n",
    "        # use softmax to convert the output to probabilities\n",
    "        test_results = [(1 if self.feedforward(x) > 0.5 else 0, y) for (x, y) in test_data]\n",
    "        accuracy = np.mean([int(x == y) for (x, y) in test_results])\n",
    "        # print(\"Accuracy: \", accuracy)\n",
    "        # print(test_results)\n",
    "        if error:\n",
    "            return 1 - accuracy\n",
    "        return accuracy\n",
    "\n",
    "    \n",
    "    def gradient_check(self, training_data):\n",
    "        epsilon = 1e-7\n",
    "        tolerance = 1e-3\n",
    "        \n",
    "        for x, y in training_data:\n",
    "            backprop_b, backprop_w = self.backprop(x, y)\n",
    "\n",
    "            for i in range(len(self.biases)):\n",
    "                for j in range(len(self.biases[i])):\n",
    "                    original_bias = self.biases[i][j]\n",
    "                    self.biases[i][j] += epsilon\n",
    "                    loss_plus = self.loss([(x, y)])\n",
    "                    self.biases[i][j] -= 2*epsilon\n",
    "                    loss_minus = self.loss([(x, y)])\n",
    "                    self.biases[i][j] = original_bias\n",
    "                    numerical_gradient = (loss_plus - loss_minus) / (2*epsilon)\n",
    "\n",
    "                    if abs(numerical_gradient - backprop_b[i][j]) > tolerance:\n",
    "                        print(\"Gradient check failed for bias[%d][%d]: %f vs %f\" % (i, j, numerical_gradient, backprop_b[i][j]))\n",
    "\n",
    "            for i in range(len(self.weights)):\n",
    "                for j in range(len(self.weights[i])):\n",
    "                    for k in range(len(self.weights[i][j])):\n",
    "                        original_weight = self.weights[i][j][k]\n",
    "                        self.weights[i][j][k] += epsilon\n",
    "                        loss_plus = self.loss([(x, y)])\n",
    "                        self.weights[i][j][k] -= 2*epsilon\n",
    "                        loss_minus = self.loss([(x, y)])\n",
    "                        self.weights[i][j][k] = original_weight\n",
    "                        numerical_gradient = (loss_plus - loss_minus) / (2*epsilon)\n",
    "\n",
    "                        if abs(numerical_gradient - backprop_w[i][j][k]) > tolerance:\n",
    "                            print(\"Gradient check failed for weight[%d][%d][%d]: %f vs %f\" % (i, j, k, numerical_gradient, backprop_w[i][j][k]))\n",
    "\n",
    "def vectorized_result(j):\n",
    "    e = np.zeros((10, 1))\n",
    "    e[j] = 1.0\n",
    "    return e"
   ]
  },
  {
   "cell_type": "code",
   "execution_count": 4,
   "metadata": {},
   "outputs": [],
   "source": [
    "def load_network():\n",
    "    file = open(\"network.txt\", \"r\")\n",
    "    # format: sizes, cost function, activation function each on a separate line \n",
    "    sizes = list(map(int, file.readline().split()))\n",
    "\n",
    "    # Read the cost function and activation function names\n",
    "    cost_fn_name = file.readline().strip()\n",
    "    activation_fn_name = file.readline().strip()\n",
    "\n",
    "    # Mapping of cost function names to classes\n",
    "    cost_fn_mapping = {\n",
    "        \"QuadraticCost\": QuadraticCost,\n",
    "        \"CrossEntropyCost\": CrossEntropyCost\n",
    "    }\n",
    "\n",
    "    # Mapping of activation function names to classes\n",
    "    activation_fn_mapping = {\n",
    "        \"Sigmoid\": Sigmoid,\n",
    "        \"Tanh\": Tanh,\n",
    "        \"ReLU\": ReLU\n",
    "    }\n",
    "\n",
    "    # Get the actual classes based on the names read from the file\n",
    "    cost_fn = cost_fn_mapping.get(cost_fn_name, CrossEntropyCost)  # Default to CrossEntropyCost if not found\n",
    "    activation_fn = activation_fn_mapping.get(activation_fn_name, Sigmoid)  # Default to Sigmoid if not found\n",
    "\n",
    "    # Initialize the network with the correct classes\n",
    "    net = Network(sizes, cost=cost_fn, func=activation_fn)\n",
    "    print(sizes, cost_fn_name, activation_fn_name)\n",
    "    return net"
   ]
  },
  {
   "cell_type": "markdown",
   "metadata": {},
   "source": [
    "## GloVe\n",
    "\n",
    "In order to download the GloVe file go to https://nlp.stanford.edu/projects/glove/ and download the file Wikipedia 2014 + Gigaword 5 (6B tokens, 400K vocab, uncased, 50d, 100d, 200d, & 300d vectors, 822 MB download). Then place the downloaded file in the current directory and the proceed with the execution of the following cells."
   ]
  },
  {
   "cell_type": "code",
   "execution_count": 5,
   "metadata": {},
   "outputs": [],
   "source": [
    "import gensim\n",
    "import nltk\n",
    "from gensim.scripts.glove2word2vec import glove2word2vec\n",
    "from gensim.models.keyedvectors import KeyedVectors\n",
    "from nltk.tokenize import word_tokenize, sent_tokenize"
   ]
  },
  {
   "cell_type": "code",
   "execution_count": 7,
   "metadata": {},
   "outputs": [
    {
     "name": "stderr",
     "output_type": "stream",
     "text": [
<<<<<<< HEAD
      "C:\\Users\\K S Ananth\\AppData\\Local\\Temp\\ipykernel_16072\\3724047408.py:3: DeprecationWarning: Call to deprecated `glove2word2vec` (KeyedVectors.load_word2vec_format(.., binary=False, no_header=True) loads GLoVE text vectors.).\n",
=======
      "C:\\Users\\K S Ananth\\AppData\\Local\\Temp\\ipykernel_2492\\3724047408.py:3: DeprecationWarning: Call to deprecated `glove2word2vec` (KeyedVectors.load_word2vec_format(.., binary=False, no_header=True) loads GLoVE text vectors.).\n",
>>>>>>> 0d3cb43b47e58319d87b07342a9f795c54b08896
      "  glove2word2vec(glove_input_file, word2vec_output_file)\n"
     ]
    }
   ],
   "source": [
    "glove_input_file = './glove.6B.50d.txt'  # Adjust the path and filename as necessary\n",
    "word2vec_output_file = 'glove.6B.50d.word2vec.txt'\n",
    "glove2word2vec(glove_input_file, word2vec_output_file)\n",
    "\n",
    "# Load the converted vectors\n",
    "model = KeyedVectors.load_word2vec_format(word2vec_output_file, binary=False)"
   ]
  },
  {
   "cell_type": "code",
   "execution_count": 8,
   "metadata": {},
   "outputs": [
    {
     "name": "stderr",
     "output_type": "stream",
     "text": [
      "[nltk_data] Downloading package stopwords to C:\\Users\\K S\n",
      "[nltk_data]     Ananth\\AppData\\Roaming\\nltk_data...\n",
      "[nltk_data]   Package stopwords is already up-to-date!\n",
      "[nltk_data] Downloading package wordnet to C:\\Users\\K S\n",
      "[nltk_data]     Ananth\\AppData\\Roaming\\nltk_data...\n",
      "[nltk_data]   Package wordnet is already up-to-date!\n"
     ]
    }
   ],
   "source": [
    "import numpy as np\n",
    "from nltk.corpus import stopwords\n",
    "from nltk.stem import WordNetLemmatizer\n",
    "import nltk\n",
    "\n",
    "# Ensure you have downloaded the necessary NLTK data\n",
    "nltk.download('stopwords')\n",
    "nltk.download('wordnet')\n",
    "\n",
    "def get_vector_of_sentence(sentence, model):\n",
    "    # Initialize a lemmatizer\n",
    "    lemmatizer = WordNetLemmatizer()\n",
    "    \n",
    "    # Convert sentence to lowercase and split into words\n",
    "    words = sentence.lower().split()\n",
    "    \n",
    "    # Filter out stopwords\n",
    "    filtered_words = [word for word in words if word not in stopwords.words('english')]\n",
    "    \n",
    "    vector = np.zeros(model.vector_size)\n",
    "    total_words = 0\n",
    "    \n",
    "    for word in filtered_words:\n",
    "        # Lemmatize the word\n",
    "        lemmatized_word = lemmatizer.lemmatize(word)\n",
    "        total_words += 1\n",
    "\n",
    "        if lemmatized_word in model.key_to_index:  # Check if the lemmatized word is in the model\n",
    "            vector += model.get_vector(lemmatized_word)\n",
    "    \n",
    "    if total_words > 0:\n",
    "        vector /= total_words\n",
    "    \n",
    "    return vector"
   ]
  },
  {
   "cell_type": "markdown",
   "metadata": {},
   "source": [
    "## Load SST2 or MR Dataset and make the required adjustments"
   ]
  },
  {
   "cell_type": "code",
   "execution_count": 9,
   "metadata": {},
   "outputs": [],
   "source": [
    "from datasets import load_dataset\n",
    "ds = load_dataset(\"stanfordnlp/sst2\")\n",
    "\n",
    "# from datasets import load_dataset\n",
    "# ds = load_dataset(\"cornell-movie-review-data/rotten_tomatoes\")"
   ]
  },
  {
   "cell_type": "code",
   "execution_count": 10,
   "metadata": {},
   "outputs": [],
   "source": [
    "from datasets import concatenate_datasets\n",
    "combined_dataset = concatenate_datasets([ds['train'], ds['validation'], ds['test']])"
   ]
  },
  {
   "cell_type": "code",
   "execution_count": 11,
   "metadata": {},
   "outputs": [],
   "source": [
    "# Vectorize all sentences\n",
    "sentence_vectors = [get_vector_of_sentence(item['sentence'], model) for item in combined_dataset]\n",
    "# sentence_vectors = [get_vector_of_sentence(item['text'], model) for item in combined_dataset]\n",
    "\n",
    "# Extract labels\n",
    "labels = [item['label'] for item in combined_dataset]\n",
    "\n",
    "# Split into training and test sets\n",
    "X_train_sentence, X_test_sentence, y_train, temp_y_test = train_test_split(sentence_vectors, labels, test_size=0.2, random_state=42)\n",
    "\n",
    "# Convert lists to NumPy arrays for compatibility with many ML libraries\n",
    "X_train = np.array(X_train_sentence)\n",
    "y_train = np.array(y_train)\n",
    "X_test = np.array(X_test_sentence)\n",
    "y_test = np.array(temp_y_test)\n",
    "\n",
    "test_inputs = [np.reshape(x, (len(x), 1)) for x in X_test_sentence]\n",
    "test_results = [np.reshape(y, (1, 1)) for y in temp_y_test]\n",
    "test_data = list(zip(test_inputs, test_results))\n",
    "\n",
    "training_data = list(zip(X_train, y_train))"
   ]
  },
  {
   "cell_type": "code",
   "execution_count": 12,
   "metadata": {},
   "outputs": [
    {
     "data": {
      "text/plain": [
       "56033"
      ]
     },
     "execution_count": 12,
     "metadata": {},
     "output_type": "execute_result"
    }
   ],
   "source": [
    "len(X_train)"
   ]
  },
  {
   "cell_type": "markdown",
   "metadata": {},
   "source": [
    "## Sentiment Analysis"
   ]
  },
  {
   "cell_type": "code",
   "execution_count": 13,
   "metadata": {},
   "outputs": [
    {
     "data": {
      "text/plain": [
       "56033"
      ]
     },
     "execution_count": 13,
     "metadata": {},
     "output_type": "execute_result"
    }
   ],
   "source": [
    "len(training_data)"
   ]
  },
  {
   "cell_type": "code",
<<<<<<< HEAD
   "execution_count": 18,
=======
   "execution_count": 36,
>>>>>>> 0d3cb43b47e58319d87b07342a9f795c54b08896
   "metadata": {},
   "outputs": [
    {
     "name": "stdout",
     "output_type": "stream",
     "text": [
      "[50, 32, 16, 10, 1] QuadraticCost Tanh\n"
     ]
    }
   ],
   "source": [
    "net = load_network()"
   ]
  },
  {
   "cell_type": "code",
<<<<<<< HEAD
   "execution_count": 19,
=======
   "execution_count": 40,
>>>>>>> 0d3cb43b47e58319d87b07342a9f795c54b08896
   "metadata": {},
   "outputs": [
    {
     "name": "stdout",
     "output_type": "stream",
     "text": [
<<<<<<< HEAD
      "0.5457102672292545\n",
      "Number of iterations:  200\n",
      "Average iteration time:  0.18804962311557788\n",
      "Total time:  37.421875\n",
      "0.536333802156587\n"
=======
      "0.5545720608180456\n",
      "Number of iterations:  60\n",
      "Average iteration time:  1.6808792372881356\n",
      "Total time:  99.171875\n",
      "0.5549289742308516\n"
>>>>>>> 0d3cb43b47e58319d87b07342a9f795c54b08896
     ]
    },
    {
     "data": {
<<<<<<< HEAD
      "image/png": "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",
=======
      "image/png": "iVBORw0KGgoAAAANSUhEUgAAAkgAAAHHCAYAAABEEKc/AAAAOXRFWHRTb2Z0d2FyZQBNYXRwbG90bGliIHZlcnNpb24zLjcuMiwgaHR0cHM6Ly9tYXRwbG90bGliLm9yZy8pXeV/AAAACXBIWXMAAA9hAAAPYQGoP6dpAACYPUlEQVR4nO3deXxU9bk/8M8smUkmk30PhIRNEJFFEMRexGoKWNsrLpXaKkhba1VqLW1/au8VvLUWsG6tUmi17gsuFbW2oohAqwWRTUERwpoQshCyb7Oe3x9nvmeWzHJmMpOZCZ/368VLmUwmZ4bAPHm+z6KRJEkCERERESm08b4AIiIiokTDAImIiIjIBwMkIiIiIh8MkIiIiIh8MEAiIiIi8sEAiYiIiMgHAyQiIiIiHwyQiIiIiHwwQCIiIiLywQCJiJLCjTfeiIqKiog+995774VGo4nuBRHRoMYAiYj6RaPRqPq1efPmeF9qXNx4440wm83xvgwiCpOGu9iIqD9eeOEFr98/99xz2LBhA55//nmv27/xjW+gqKgo4q9js9ngdDphNBrD/ly73Q673Y7U1NSIv36kbrzxRrz++uvo7Owc8K9NRJHTx/sCiCi5XX/99V6/37ZtGzZs2NDndl/d3d0wmUyqv05KSkpE1wcAer0eej3/uSMi9XjERkQxd/HFF2P8+PHYuXMnLrroIphMJvz6178GALz11lu4/PLLUVpaCqPRiJEjR+K+++6Dw+HwegzfGqRjx45Bo9HgwQcfxF/+8heMHDkSRqMR559/Pj799FOvz/VXg6TRaLB48WK8+eabGD9+PIxGI8455xysX7++z/Vv3rwZU6dORWpqKkaOHIk///nPUa9reu211zBlyhSkpaUhPz8f119/PWpra73uU19fj0WLFmHo0KEwGo0oKSnBFVdcgWPHjin32bFjB+bMmYP8/HykpaVh+PDh+MEPfhC16yQ6U/BHKiIaEKdPn8Zll12G7373u7j++uuV47ZnnnkGZrMZS5YsgdlsxocffoilS5eivb0dv//970M+7ksvvYSOjg7cfPPN0Gg0eOCBB3DVVVfhyJEjIbNOH330Ed544w3ceuutyMjIwB//+EdcffXVqK6uRl5eHgBg9+7dmDt3LkpKSvB///d/cDgc+M1vfoOCgoL+vyguzzzzDBYtWoTzzz8fy5cvR0NDA/7whz/g448/xu7du5GdnQ0AuPrqq/HFF1/gpz/9KSoqKtDY2IgNGzagurpa+f3s2bNRUFCAu+66C9nZ2Th27BjeeOONqF0r0RlDIiKKottuu03y/adl1qxZEgBpzZo1fe7f3d3d57abb75ZMplMUm9vr3LbwoULpfLycuX3R48elQBIeXl5UnNzs3L7W2+9JQGQ/v73vyu3LVu2rM81AZAMBoN06NAh5bbPPvtMAiA99thjym3f/va3JZPJJNXW1iq3VVVVSXq9vs9j+rNw4UIpPT094MetVqtUWFgojR8/Xurp6VFuf+eddyQA0tKlSyVJkqSWlhYJgPT73/8+4GOtW7dOAiB9+umnIa+LiILjERsRDQij0YhFixb1uT0tLU35/46ODjQ1NWHmzJno7u7GV199FfJx58+fj5ycHOX3M2fOBAAcOXIk5OdWVlZi5MiRyu8nTJiAzMxM5XMdDgc++OADzJs3D6Wlpcr9Ro0ahcsuuyzk46uxY8cONDY24tZbb/UqIr/88ssxduxY/OMf/wAgv04GgwGbN29GS0uL38cSmaZ33nkHNpstKtdHdKZigEREA2LIkCEwGAx9bv/iiy9w5ZVXIisrC5mZmSgoKFAKvNva2kI+7rBhw7x+L4KlQEFEsM8Vny8+t7GxET09PRg1alSf+/m7LRLHjx8HAIwZM6bPx8aOHat83Gg0YuXKlXj33XdRVFSEiy66CA888ADq6+uV+8+aNQtXX301/u///g/5+fm44oor8PTTT8NisUTlWonOJAyQiGhAeGaKhNbWVsyaNQufffYZfvOb3+Dvf/87NmzYgJUrVwIAnE5nyMfV6XR+b5dUTDDpz+fGwx133IGDBw9i+fLlSE1NxT333IOzzz4bu3fvBiAXnr/++uvYunUrFi9ejNraWvzgBz/AlClTOGaAKEwMkIgobjZv3ozTp0/jmWeewc9+9jN861vfQmVlpdeRWTwVFhYiNTUVhw4d6vMxf7dFory8HABw4MCBPh87cOCA8nFh5MiR+MUvfoH3338f+/btg9VqxUMPPeR1nwsuuAD3338/duzYgRdffBFffPEF1q5dG5XrJTpTMEAiorgRGRzPjI3VasWf/vSneF2SF51Oh8rKSrz55ps4efKkcvuhQ4fw7rvvRuVrTJ06FYWFhVizZo3XUdi7776L/fv34/LLLwcgz43q7e31+tyRI0ciIyND+byWlpY+2a9JkyYBAI/ZiMLENn8iipsLL7wQOTk5WLhwIW6//XZoNBo8//zzCXXEde+99+L999/H1772Ndxyyy1wOBx4/PHHMX78eOzZs0fVY9hsNvz2t7/tc3tubi5uvfVWrFy5EosWLcKsWbNw3XXXKW3+FRUV+PnPfw4AOHjwIC699FJce+21GDduHPR6PdatW4eGhgZ897vfBQA8++yz+NOf/oQrr7wSI0eOREdHB5544glkZmbim9/8ZtReE6IzAQMkIoqbvLw8vPPOO/jFL36B//3f/0VOTg6uv/56XHrppZgzZ068Lw8AMGXKFLz77rv45S9/iXvuuQdlZWX4zW9+g/3796vqsgPkrNg999zT5/aRI0fi1ltvxY033giTyYQVK1bgzjvvRHp6Oq688kqsXLlS6UwrKyvDddddh40bN+L555+HXq/H2LFj8eqrr+Lqq68GIBdpb9++HWvXrkVDQwOysrIwbdo0vPjiixg+fHjUXhOiMwF3sRERRWDevHn44osvUFVVFe9LIaIYYA0SEVEIPT09Xr+vqqrCP//5T1x88cXxuSAiijlmkIiIQigpKcGNN96IESNG4Pjx41i9ejUsFgt2796N0aNHx/vyiCgGWINERBTC3Llz8fLLL6O+vh5GoxEzZszA7373OwZHRIMYM0hEREREPliDREREROSDARIRERGRD9YgRcjpdOLkyZPIyMiARqOJ9+UQERGRCpIkoaOjA6WlpdBqA+eJGCBF6OTJkygrK4v3ZRAREVEEampqMHTo0IAfZ4AUoYyMDADyC5yZmRnnqyEiIiI12tvbUVZWpryPB8IAKULiWC0zM5MBEhERUZIJVR7DIm0iIiIiHwyQiIiIiHwwQCIiIiLywQCJiIiIyAcDJCIiIiIfDJCIiIiIfDBAIiIiIvLBAImIiIjIBwMkIiIiIh8MkIiIiIh8MEAiIiIi8sEAiYiIiMgHAyRSrcfqiPclEBERDQgGSKTK7uoWjL/3PTz8/oF4XwoREVHMMUAiVTYfOAWHU8K2o83xvhQiIqKYY4BEqhxs6AAAnO60xPlKiIiIYo8BEqlywBUgNXdZ43wlREREsccAiULqtTlwrKkLANDSbYPd4YzzFREREcUWAyQK6VBjJ5yS+/fN3cwiERHR4MYAiUIS9UcCj9mIiGiwY4BEIR3wCZBOdzJAIiKiwY0BEoV0sN47QGpiJxsREQ1yDJAopIMNnQCAokwjAB6xERHR4McAiYLq6LWhtrUHADBjRB4AHrEREdHgxwCJghIF2sWZqRiebwYAnO7iERsREQ1uDJAoqAP18vHaWcUZyDMbADCDREREgx8DJApKZJDGFJmRLwIk1iAREdEgxwCJgjrg6mA7qygDuelykTb3sRER0WCnj/cFUGITGaSxxZkwGXUAmEEiIqLBjwESBXSqw4LTXVZoNMCoQjOsdnkHW0evHRa7A0a9Ls5XSEREFBs8YqOARPaoPNeENIMOmWl66LUaAJyFREREgxsDJArIs/4IADQaDXLT2clGRESDHwMkCkjpYCvOUG7LM7sKtZlBIiKiQYwBEgV0wF+ApGSQ2MlGRESDFwMk8kuSJGVJ7ZgizwySHCAlUw2SJEnxvgQiIkoycQ+QVq1ahYqKCqSmpmL69OnYvn17wPs+8cQTmDlzJnJycpCTk4PKyso+929oaMCNN96I0tJSmEwmzJ07F1VVVX0ea+vWrbjkkkuQnp6OzMxMXHTRRejp6Yn680tWJ1p60GV1IEWnQUV+unJ7nmsWUlOS1CBt+qoRk+/bgPe+qI/3pRARURKJa4D0yiuvYMmSJVi2bBl27dqFiRMnYs6cOWhsbPR7/82bN+O6667Dpk2bsHXrVpSVlWH27Nmora0FIGcK5s2bhyNHjuCtt97C7t27UV5ejsrKSnR1dSmPs3XrVsydOxezZ8/G9u3b8emnn2Lx4sXQauMeLyYMUX80ssCMFJ37dXGvG0mOI7Z/7q1Da7cNmw/4/54iIiLyJ65zkB5++GHcdNNNWLRoEQBgzZo1+Mc//oGnnnoKd911V5/7v/jii16/f/LJJ/G3v/0NGzduxIIFC1BVVYVt27Zh3759OOeccwAAq1evRnFxMV5++WX86Ec/AgD8/Oc/x+233+71NcaMGROrp5mURP3RWR7Ha4C7BilZjtgOnZJ3ySVLxouIiBJD3FImVqsVO3fuRGVlpftitFpUVlZi69atqh6ju7sbNpsNubm5AACLRc5qpKamej2m0WjERx99BABobGzEJ598gsLCQlx44YUoKirCrFmzlI+TTKk/KvYJkFxdbE1JECBJkoRDjXKAlCwZLyIiSgxxC5CamprgcDhQVFTkdXtRURHq69XVi9x5550oLS1VgqyxY8di2LBhuPvuu9HS0gKr1YqVK1fixIkTqKurAwAcOXIEAHDvvffipptuwvr163Heeefh0ksv9VurJFgsFrS3t3v9GswONMiBxRifDFJuEnWxneqwoKPXDoBjCYiIKDxJW3SzYsUKrF27FuvWrVMyRikpKXjjjTdw8OBB5ObmwmQyYdOmTbjsssuU+iKnU16XcfPNN2PRokWYPHkyHnnkEYwZMwZPPfVUwK+3fPlyZGVlKb/Kyspi/yTjxO5w4rAr8+KbQcpPoi62KtdzADjYkoiIwhO3ACk/Px86nQ4NDQ1etzc0NKC4uDjo5z744INYsWIF3n//fUyYMMHrY1OmTMGePXvQ2tqKuro6rF+/HqdPn8aIESMAACUlJQCAcePGeX3e2Wefjerq6oBf8+6770ZbW5vyq6amRvVzTTbHTnfB6nDCZNBhSHaa18fEEVu31YFuqz0el6faIY8AqdNiR6/NEcerISKiZBK3AMlgMGDKlCnYuHGjcpvT6cTGjRsxY8aMgJ/3wAMP4L777sP69esxderUgPfLyspCQUEBqqqqsGPHDlxxxRUAgIqKCpSWluLAgQNe9z948CDKy8sDPp7RaERmZqbXr8HqQL0cWIwuyoDWtXtNSDfoYNDL3zaJnpXxDJAAHrMREZF6ce1iW7JkCRYuXIipU6di2rRpePTRR9HV1aV0tS1YsABDhgzB8uXLAQArV67E0qVL8dJLL6GiokKpVTKbzTCbzQCA1157DQUFBRg2bBj27t2Ln/3sZ5g3bx5mz54NQN4n9qtf/QrLli3DxIkTMWnSJDz77LP46quv8Prrr8fhVUg8ooNtrE/9ESC/fvnpBpxs60VzlxVluaaBvjzV+gRInZY+GTEiIiJ/4hogzZ8/H6dOncLSpUtRX1+PSZMmYf369UrhdnV1tddsotWrV8NqteKaa67xepxly5bh3nvvBQDU1dVhyZIlaGhoQElJCRYsWIB77rnH6/533HEHent78fOf/xzNzc2YOHEiNmzYgJEjR8b2CScJ0cF2VnHfAAmQj9lOtvXidFdiF2qLFv8UnQY2h5TwGS8iIkocGol7GCLS3t6OrKwstLW1Dbrjtkse3IwjTV144YfT8V+j8/t8fOFT27Hl4Ck8cM0EXDs1MYvV23psmPh/7wMAppTnYOfxFvz+mgn4ToJeLxERDQy1799J28VGsdFrc+DYaXnq+FnFZr/3iWQfm9Mpwe5w9v8CVRLHa8WZqSjPk48BWYNERERqMUAiL4caO+GU5HlHBa6ONV/5rtvVzkLqtTnw9Yc24+o1WwdscawYUzCq0Bz29RIRETFAIi8HRP1RkRkajcbvffKUYZHqMjKHT3Xi+OlufFbTisOnukJ/QhSI+qNRheawr9fTJ0dOo66NS4yJiM40DJDIi1hS6ztB25MyTVvlkVX16W7l/3cca+7H1aknjthGFpojXo9yoL4D8/+yDYtf2h3164ulmuZufPuxj/DWntp4XwoRUdJigERelCW1ATrYAI8jNpVdbMeb3QHSp8da+nF16okAaXShWamZCveITTzG4VOdIe6ZWDYdaMTe2ja8tuNEvC+FiChpMUAiL8qS2iAZJHfAoTKD5BUgxT6D1GtzoKZF/pqjCs3ITxc1SOFlkBraewEArd02WOzJM4VbPM9kWAdDRJSoGCCRoq3HhpNtclAQLIPkecSmpuja84iturlbCTxi5cipLkgSkG1KQV66wR3QdVnCKhJv6HBfZzLNUGrpZoBERNRfDJBIUeU6XivNSkVmakrA++W5MjJWuxOdltD72I43y4XZKTq56HtHjI/ZlALtArnQXAR0NoeE9l71++Ma291Hck1J1AEnAqPmbnUBLBER9cUAiRRq6o8AIM2gQ7pBByB0ZsXmcOJkq5yJuXSsPCE91sdsh1zPY1ShPMcpNUWHDKM8ND6cOiTPTNepjuQJkEQGyWp3osuaPEeDRESJhAESKdTUHwm5ZnWdbLUtPXA4JRj1WnxzQgmAAQiQPFr8hTyV1+spWQOk5i6b8v8tPGYjIooIAyRSKBkkFQFSXrq64YuiQHtYrgnTKnIBAPvr2tHRawv2af3i2eIv5EUwLNLziC2ZAiTPoIjTw4mIIsMAiQAAkiQpQyLHhDhiA4B8lRkZ0eJfnmdCcVYqynLT4JSAXdWt/bvgAOwOJ442yTVPowo8AiRXHVKTymLrLosdHR71VaeSpAZJkiQ0d7ufIzNIRESRYYBEAORW9pZuOaszssD/DjZPSidbqAySa6/bsNx0AMD5rixSrAZGVjd3w+aQkJaiw5DsNOV2dwZJXcDQ6JMxSpYMUrfVAavdvfOOnWxERJFhgEQAoMwNKswwIs1VgB2MEnCEyiCdFkdscrAiAqRY1SGJ47URBenQat2rUvI9Wv3V8B1FkCwBkm9AxACJiCgyDJAIgHetkBpq95tVK0dsIoOUAwDYXd3qlemIFn8F2kD4++NEgGTQy39FkqXNv6XbJ0DqZoBERBQJBkgEAKhplheylqkNkFRkZCRJcgdeefLjjiwwI8eUAovdiX0n2/pzyX6JDNIon2NCZR+bykBHFGifXZIJIHkySL4ZveYkGnBJRJRIGCARAPcRW1lOWoh7yvJUrO9o6rSi2+qARgMMdT2uRqPB1BjWIR1uDJBBMosi7fCO2M4plQOkLqsDXSqGYsabb1E2M0hERJFhgEQA5A3wQCQZpMBvwNWuCdqlWWkw6t11TaLdf/vR6E7UliQJh0+5Oth8AqR8lTVTQoMrYzQiPx1pKfK1J8Mxm6g5MrqOBlmDREQUGQZIBCCCAMmVQWrussLp9L/Oolp5TO+s1FRXHdLO480BPzcS9e296LTYoddqlJon9/XKAV1rtw02R+jaJ5FBKspMRUGG/FyT4ZhN1CANz5efP9v8iYgiwwCJ4HBKqG0NrwZJtPk7nBLaAwx9FB1s5bnewco5pVlITdGipduGI02dkV52H6L+qDzPpBRXC9kmA0RTm5qgoTFJAyQxRVtk0DgokogoMgyQCPXtvbA5JKToNCjOTFX1OQa9Fpmp8n6zQMMXq097F2h7fu7kMjmLFM1jtkMB6o8AQKd1L60NNSxSkiQ0uIq0izKNKHAdzyXDsEgR/IlZVm09NthVZMyIiMgbAyRSjteGZKdB5zE7KJRQ6zs8p2j7Eu3+0SzUDhYgAR6F5SFmIXVY7OixyUteCzPcGaSmZMgguY7YRhSkQyMyZt2xW+tCRDRYMUAij1ohdcdrgqjrCVQIHGy2kuhk+/R49AKkqlABklndLCRxvJaZqkeaQec+YkuiDFKB2YistBT5NnayERGFjQES4USkAZJonfcTIHVb7UrNjm8NEgCcV54DrUaev1Tf1tvn45FQWvwL/O+SUzsLyX28Jh83ig64ZKhBEsFQrtmgHCmyk42IKHwMkBLMUx8dxfef3Ia3Pzs5YF+zpsVVoJ0TXoCUmx74iE1kj7LSUpBlSunzcbNRj3GuGUPRWDvS0mVVCpJHFvYNyACPadohAgbPDjYASVOk7XRKynFarsmAXBMDJCKiSDFASjBHmjrx8aHTONTQMWBfM1A7fihiv5m/N2Clg81P/ZEwtTx6AyPFipEh2WkwGfR+76PsY1OZQSrMlAOjZAmQ2nttcLjGJmSbDMhhBomIKGIMkBKM+Kl/INuza8LcwyYE228mOtiCHdtNG+4aGHms/51sokB7ZID6I8CzqDzCDFKnBZIUvblN0SYCoQyjHga9NmSNGBERBcYAKcGIupGBKqzttTnQ6MqMhH3EFqSmR1lSGyRAmloud7J9Vd8ecJaSWoF2sHkSAYO/milPjR2uAMkVGInMk80hoa0ncTvCxPeMyBwxg0REFDkGSAkmV2WWI1pOuHawmY16ZPupFQomP8gbcLAWf6EwMxXleSZIErDreOAs0qHGTmzc3xA0exOqxR8IPZZA8C3SNup1SkdYIq8bEUMiRWDEDBIRUeQYICWYgS6srWl2T9DWaNTPQAI8Ag4/11p9Wt6JNsxPB5un80W7v586pC6LHb/7537MefRf+OGzO/Dbf+wPGCSpCZDyVbb5iyO2Qo+hmeKYrTFKdUjtvTbc/cZefPhVQ1QeD3C3+Oe6At0c08BmI4mIBhMGSAlmoI/YalwZpLKc8Aq0Ae9rdXjsVLM7nDjh6ozznaLtSwyM/NSnDun9L+rxjYe34C//OqI89l8/OopHPqjq8xjdVruyKkVNBqnH5kC31e73PpIkodFjirYggqtoFWo/9N4BvLy9Gr967XP0uoZS9lezzxFbrsqAkIiI+mKAlGDEbKGWbltUF7kGoqaYOpAcUwo0GkCSvAO6urZe2J0SDDptyNUlYmDkZzWtsNgdqGnuxo+e/RQ/fn4nTrb1Ykh2Gv66cCru/fY4AMAfN1bhz1sOez3GkVNytio33T37x590g07Zch8oaGjttsHqWs0hskby/8vPIxoB0qHGDrzwSbV8HV1WvLm7tt+PCXhmkAxe/2UGiYgofP77oSluxLGIwykXBOcEecOPBpFBCreDDQD0Oi1yTAY0d1lxutOqDFQUBdpDc0OvLhmRn468dANOd1lxz5v78PZnJ9Frc0Kv1eDHF43ATy8ZjTSDDgDQZXXg9+8dwPJ3v4LJoMMNMyoAqDteAwCNRoN8sxG1rT1o6rT4DQobXAXauekGGPU65fZo7mP77T/2w+GUkJmqR3uvHU9+dBTzzy8L+4jTlziWFZkjz0GRkiT1+/GJiM4kzCAlGINeiwyjHLc2D8BP/tVKDVL4R2yA+03Ys/BZmYGkIujSaDSY6jpme3XHCfTanJg2PBfv/mwm/t/csUpwBAC3fX0Ubr14JADgnre+wN92ngCgPkACQq8bUWYgeWSPgOjNQtp8oBGbD5xCik6DF390AcxGPQ41dmLzwVP9elzAY4q2yTtAstid6LZG5xiPiOhMwQApAeUGGcAYTZIkudeMhNniL/ibTn28WRRoq3vMmaMLAMhv6A99ZyJe+fEFGF3kf13Ir+aMwY0XVsj///pneHdvnaoW/77X6z/Q8Z2BJEQjQLI7nLj/H/sBAAtnVODcoVn47vllAIC//vtoxI8riD8DkXU0eRwpspONiCg8PGJLQLnpBhw/3R3z4tq2Hhs6LHKx8tAIA6R8P63zyuDJvOAdbML888swNCcNk8ty/K4l8aTRaLD0W+PQZbHjtZ0ncPva3crkbHUZJDG7yf9r26gESP4zSIE+T42Xt1ejqrETOaYU/PTS0QCAG79Wgac+PoqPDjVhf107zi7JjPjxlRokV4Ck0WiQm25AXVsvmrusEdWZERGdqZhBSkCRFtee6rDgvx//CE9/rC4bIWqFCjKMXkdZ4cj1l0EK44gNAFJ0Wlw8pjBkcCRotRqsuHoCvjWhxGt4YzSP2PpkkPq5sLat24aHNxwEACz5xlnKXKWhOSZcdm4JALlLrz9ElkjUsXn+/0Ac1xIRDSYMkBJQpFvY/3O4CZ+faMMT/zqi6v5iBlIkBdqCEnC4rlWSJKUzLtiQyP7SaTV4ZP4kXDq2EIA86LIkK3jHHADkiwW7IY7YCn0CpPwM8Wdi8RppoNZjH1ahpduG0YVmXDdtmNfHfvRfwwEAb+2pVTJY4bI5nGjvlbOBnp184s+nma3+RERhYYCUgCKdXyOyGyfbenHSNRcomP7MQBJ8p1O3dLuP7WJ9pJOi02LV98/DzbNG4Lfzxqvq0gqZQXK9hkU+Rdp56UZoNYBTChxcBXK0qQvPbj0GAPjfb42DXuf9127ysBxMKc+BzSHh+W3Hw3psobVbzqJpNFCyUwCHRRIRRYoBUgJyT9MO743YswV9V3XoBbDiiK0/gYzvwlrxmEWZRqSmRHZsF47UFB3uvuxszJs8RNX984LsjwM8a5C8M0g6rQa56ZEds/3un/thc0i4eEwBZp1V4Pc+Iov0wrbj6Img40wEQNlpKV6jFfwdgRIRUWgMkBKQcsTWHd5iVM837p1BdpsJNVEMkMRx4HHXipHyECtG4sVf153gdErKKhHfAAmIrJPtP4easOHLBui0Gvzv5WcHvN/sc4pRlpuGlm4b3th9QvXjC80+HWyCMu2cARIRUVgYICUgpW4kzAySZ4dVsOWvglgHEmmLP9A3IyPqj0KtGIkX0XXX3GXtM6n8dJe8MkWjca8W8RRugORwSvjNO18CAK6fPgyjCv2PLgDkDNWiC+Us0l//fTTsKeoiAMoLECAxg0REFB4GSAlI6TyKsAYJAL442R70qMbhlHBC1CBFOCQScL8ht/faYbU7cbw5vA62gSYCBjGp3JMo0M43G/vUCQHuTja1rf6v7qjBV/UdyEzV447Ks0Le/9rzy5Bh1ONIUxc2HWhU9TUEZQ+biRkkIqJoYICUgPJctS7htmaLAEmjAexOCZ+faA1434b2XtgcEvRaDUqyIg+QsjxqXlq6rQmfQTLotUoRs2+xdUOAGUhCOBkkSZLwx43yYt2fVZ6lamWM2ajHddPlDrcnwxwc6TsDSXAf1zJAIiIKBwOkBCS62HptzoBb5305nJJyJDdlmLy6Y2eQQm1RTD0kJ/S+tGC0Wo3yJtzUaVEetz+jA2JNHGH6ZoKUGUgZ/scFiGM3NfvY6tt7UdfWC51Wg+9PHxby/sLCCyug02qw9chp7KttU/15vlO0hUhHRhARnekYICWgdIMOBl3wrfO+mruscEpy9ugb44oABK9DqunnihFP4pjtZGsv6l1ZmHKVU7TjQZmF1CdA8j8DSXBnkELPKvqqrgMAMLIgPaxuviHZabjcNTjyqTAGRyoZpABHbG09NtgdTtWPl4gO1Hfggy8b4n0ZRHSGYICUgMSKCED9/BpRJJ1rMmDa8FwAciebJPkv9q0RBdpRyPSIjMyeGjkgyzDqkaNyKnY8uIdbemeCGl2BT3HIACl0BunLunYAiGh1yI9mysXab392EvVt6gZHio5H3wxStus4UZKA1p7wuiITzeKXduFHz+1AVUNHvC+FiM4ADJASVLjdR+JNuyDDiHNKs2DQa9HSbcPRpi6/93e3+EdefySImqldx1tdj2lSNbQxXkIesQWoQSoMI0Da7wqQxhaHHyBNGJqNKeU5sDslvPdFvarPcdcgeQemep0W2a5gNdkLtetcweLeMI4eiYgixQApQYW7IkK8aeebjTDotZg4NAtA4HlI0TxiE8GcKAqP5YqRaMhL77tgF/As0g6QQTLLt7f32tFrCz7Mcb+SQQrc2h/M1HK5jixQgOvL3x42QRy7JXOrv8MpodM1of0AM0hENAAYICWocFdEiCM2cQx0nusNNtBEbbFmJBrF1KJ4ucs1ViBRO9iE/ADrRkQGqTBABikzTe+uDQsSbPTaHEpgMy6CIzbAXcMlBm+GIr5PfLvYAPexWzJnkERwBAAH6xkgEVHsMUBKUP05YgM8Otn8ZJB6bQ4lGIhODZJ3QJGoU7QFZX+cRw2SzeFUfh8og6TRaFTVIR1s6IBTkovXCzL8B1uhVOTLfy7HXGMTgum1OdDtCk79BUiDYVikV4DU0BnHKyGiMwUDpASlrPBQe8TWKY7Y5M8TGaSDDZ19BiKKCdrpBl1Uiql935QTucUf6Ls/DpAzcJIE6LWaPp1gnpRW/yABklJ/VJIRcS1WhSuDVNPcHbL7TGSPUnQamI36Ph8XzyeZM0gdve7v4drWHq/fExHFAgOkBJUT5k/9vkds+WYjKlxHXbt9jtlqlAna0Smm9l3LkfA1SH4W1irHaxlGaIPMhVKTQdrvavE/O4ICbaE4MxUGvRZ2p4STrcE72Tzrj/z9eeaakz+D1NHrPQ+MWSQiijUGSAkqL8w2f+WIzew+HlLqkHyO2aKxpNaTKHoG4JrM7f+IKlGIgE6sRwFCz0AS1AVIkbf4C1qtRlnXcjREHVJzgCnaQm6Y9WyJyDdjdJCF2kQUYwkRIK1atQoVFRVITU3F9OnTsX379oD3feKJJzBz5kzk5OQgJycHlZWVfe7f0NCAG2+8EaWlpTCZTJg7dy6qqqr8Pp4kSbjsssug0Wjw5ptvRvNp9Uu4E5CVLrYM95vklHL/E7Wj2cEGuDMUADA0J83vHrNEkpmaAr0rSyRe38YQa0YEsY/tVKf/rI4kSV5HbP1Rka+uUDtYBxswOKZp+2aQDrBQm4hiLO7vZK+88gqWLFmCZcuWYdeuXZg4cSLmzJmDxkb/yzo3b96M6667Dps2bcLWrVtRVlaG2bNno7a2FoD8BjVv3jwcOXIEb731Fnbv3o3y8nJUVlaiq6vvG82jjz6akDN7lMJaFWstbA4nWlyDAgs8CqZFgLSnutWrjqWmWa5BGhaFGUiAPBhSdHdFKysVS77rUQDPGUj9yyCdbOtFe68deq0GowrN/bpOcUR6rCl4oXagPWzCYAyQmEEioliLe4D08MMP46abbsKiRYswbtw4rFmzBiaTCU899ZTf+7/44ou49dZbMWnSJIwdOxZPPvkknE4nNm7cCACoqqrCtm3bsHr1apx//vkYM2YMVq9ejZ6eHrz88stej7Vnzx489NBDAb9WPIk3tfZeO2whinRFsbFOq/HKIowuzECGUY8uq8Nrdkx1lI/YNBqNMrcp0euPBHcnm/zahZqBJIgAyXfIpPCVK3s0qtAMo179ihF/1Lb6u6do+y+4zx0Ebf4iQBrtCjpZg0REsRbXAMlqtWLnzp2orKxUbtNqtaisrMTWrVtVPUZ3dzdsNhtyc+X1GhaL/JN9aqr7jU6r1cJoNOKjjz7y+rzvfe97WLVqFYqLi6PxdKIq22SASGyFqh0RWZC8dINXgbFOq8GkYdkA3HVIkiRFvQYJcL8JJ3qLv+CeheTKIHW4i7SDCZVBikb9kSA62ULVIAXawyZ4tvkHWj2T6EQN0nmu8RVNnRZV2VUiokjFNUBqamqCw+FAUVGR1+1FRUWor1e3YuHOO+9EaWmpEmSNHTsWw4YNw913342WlhZYrVasXLkSJ06cQF1dnfJ5P//5z3HhhRfiiiuuUPV1LBYL2tvbvX7Fkk6rUfZohToa8Z2B5EmpQ3IFSG09NnS4ZspEqwYJcA9EPK88O2qPGUu+rf6NKjNI+WZ3gOQv2BAdbGOL+1d/BLhnIdU0d8PhDBzYNLsCaN89bIIIkCx2J3pCTABPVCKDVJRpVMZIMItERLEU9yO2/lixYgXWrl2LdevWKRmjlJQUvPHGGzh48CByc3NhMpmwadMmXHbZZdBq5af79ttv48MPP8Sjjz6q+mstX74cWVlZyq+ysrJYPCUvamtHPNeM+PIt1Bb1R/lmI9IM/TsC8vS7q87Fll9djCnluVF7zFjybfVXe8QmXuMem0OZHO4pmhmkkqw0GHRa2BwSTrb2BLxfqBokk0EHg941AVzlXK1EIwZFmlP1OKtIDj5Zh0REsRTXACk/Px86nQ4NDQ1etzc0NIQ89nrwwQexYsUKvP/++5gwYYLXx6ZMmYI9e/agtbUVdXV1WL9+PU6fPo0RI0YAAD788EMcPnwY2dnZ0Ov10Ovl4XpXX301Lr74Yr9f7+6770ZbW5vyq6amJsJnrZ5onw8ZIHUGziBNKsuGRiMHRo3tvR4zkKJToC2k6LRKzUwy8FxYa7E7lCL3UF1s6UY90l2Bpe8xW4/VoRyHRSNA0mk1yp/T8SATtUO1+Ws0mqRv9RdHbBmpKRhTLNchcScbEcVSXAMkg8GAKVOmKAXWAJSC6xkzZgT8vAceeAD33Xcf1q9fj6lTpwa8X1ZWFgoKClBVVYUdO3Yox2l33XUXPv/8c+zZs0f5BQCPPPIInn76ab+PZTQakZmZ6fUr1sLNIPkLkDJSUzDG9RP3ruoWpUA70addx1q+WFjbZUGjq4PNoNciKy30ZPFAdUgHGjogSXJ9U6QrRnypqUMSQU+gNn8g+deNtLuO2DI8M0hs9SeiGOq7l2CALVmyBAsXLsTUqVMxbdo0PProo+jq6sKiRYsAAAsWLMCQIUOwfPlyAMDKlSuxdOlSvPTSS6ioqFBqlcxmM8xm+SfL1157DQUFBRg2bBj27t2Ln/3sZ5g3bx5mz54NACguLvaboRo2bBiGDx8+EE9blRy1AVJn4CM2QD5m+6q+AzuPtyg7u6JZf5SM8jwW1jZ2uGcgqRn5UJBhxLHT3X0CpGgerwnKLKQm/wGSJElo6ZKzK4EySJ4fS9ZOtg4lQEpRsnxyQCol5JgOIkp+cQ+Q5s+fj1OnTmHp0qWor6/HpEmTsH79eqVwu7q6WqkdAoDVq1fDarXimmuu8XqcZcuW4d577wUA1NXVYcmSJWhoaEBJSQkWLFiAe+65Z8CeU7TkqQyQmoJkkAA5QHrxk2rsPN4Cc6qcIYn2EVuyUdr8Oy3uGUgZ6iaAu1v9ByBAErOQAhyxdVrssLrGQKjJICXrLKROixwEmo16DM9Ph06rQUevHfXtvSjJOrO/l4koNuIeIAHA4sWLsXjxYr8f27x5s9fvjx07FvLxbr/9dtx+++1hXUMitj+rPRZRapCCZJAAYF9tu/LmngwDHWNJBJ9NXVbUt6kr0BYKzP6P2L4SO9j6OUHbk6jrOhbgiE1kj9JSdEGL7pM9QBIZpMxUPYx6HYbnp+NQYycO1HcwQCKimEjqLrbBTnlTC9F55K5B8p9BGJZrQr7ZAKvDiVpXNxSP2OTXymp34kiT3C5eGKJAW8j3EyBJkoT99a4VI/1YUutL1CBVn/bf6i9a/IMdr3l+PBmLtCVJ8jpiA6DU1bGTjYhihQFSAlPzptZrcyhvHp6Laj1pNBplwB4gd0cl+kLZWDMZ9DC5Mi5fnpQDG9UZJFGk7XHEdqKlBx29dqToNBhZ0L8VI55Ks1ORotPA6nCivr3v/jdRUxRoiraQ4zP3KZn02BxKcJiRKie93a3+nIVERLHBACmBqTliE3UwBp0WmWmBT0zFMRsADMlO/IWyA0Fkkb5ydUOFavEX/HWx7VdWjGQoM4eiQa/TKtk+f4XaoRbVCnlJnEHqdP0AoNVACWpFqz8zSEQUK3yXTGCenUeBaqTcQyINQbt5PAOkM71AWxBzpkRnX7hF2p4Bkgiyzo7CBG1fYr+dv1Z/EfDkhThiEwFUMrb5ixZ/s1GvfI97Dot0BpkyTkQUKQZICUwESHanpLxJ+BJLU0PN3Rk/JAspOvnN5UyvPxLEPjahMMwjtqZOi/LmHIsONkFp9ffTyaZkkEIESCJbloxt/p5DIoXyvHQY9Fr02pzK8FMiomhigJTAUlN0ytTmQN1HwYZE+j7W+CFZANjBJogMkqD2iE18nt0poa1HfvOOaYAkOtn8HLGJDFKgRbWCyCC19tiC7nVLRB0eQyIFnVaD0YWuidocGElEMcAAKcG5h0X631zeFGJIpKdbZo3EecOyccWk0uhdYBLL88ggmQw6mI3qpl4Y9FrkmORsxqlOC7osdhx3TSgfG8UWf6FcmYUUpAYp5BGbfL2SBLQmWR2S2MPmGSAB7GQjothigJTg3MMibX4/rjaDBACzzynGG7d+DUN5xAbAPSwSkDvYwpnI7NnqL1aMFGQYVQWq4RIZpOOnu/vU26iZog3Ixd5ijUosZyG9sO04Fj29XTkWiwZ/R2wAcJar3usAO9mIKAYYICW43BAZJHeRdvTfmAc7zxqkwjB3p3kWasfyeA0AhuakQa/VwGJ3oqHDu9X/tOv7IlQXGzAwwyLXbDmMTQdOYcOXDaHvrJK/IzYAOKvI1cnGIzYiigEGSAkuV1mq6v9NTRyxRWs56pnEswZJ7QwkwX+AFP3jNUDO/gzNkTsPjzV5FyS3dKvLIHneJ1at/naHE3WuqeS7q1uj9rjtAQMk+fU+0tQJm2vdChFRtDBASnC5rgGAgbqPTjFAiphnDZLaAm1BWTfSaXGvGIniBG1f/laOOJySUk8UalAkEPtW/7q2XqUAfHdNS9Qet1Np8/d+jkOy05Bu0MHmkPwWsBMR9QcDpAQXKoPEI7bIeQdIkWWQGtt73TOQYnTEBngurXUHAu09NoiSJDVHbHnpsW31P9HSo/z//roO9LjmS/WXuwbJO4Ok0Wg86pB4zEZE0cUAKcHlBakb6bLYlSGHzCCFz7M1Xu0MJEG83rtrWtFpscOg02JEQXpUr8+TMgvJ44hN7GHLTNUjRcVk9ByVy48j5TmPyOGUsLe2LSqP67mo1pfSycY6JCKKMgZICS4nSIAk6o/SPOYlkXp6nbtdP9IibTG8cVShWVWQEqkKP0dsIhOkpv4IGNgMEgDsqo7OMVuHxX8XG+CuQ2IGiYiijQFSggvWeaQcr2UEXzNCgd1wQTmmVeRiUll2WJ/ne6QZy+M1wD0L6fjpbmXtjNoZSEKsM0gnXBkkEYjtjlKA1BmgSBsAxhRzaS0RxYa6yXgUN8GO2JQONtYfRWzJ7DERfZ7vkWasOtiEoTkmaDXyZvvGDguKMlNVT9EWYr2w9kSznEG6fEIJntt6HLuqWyFJUr+D9w6PXWy+RAbp2Oku9NocSE1hJpWIooMZpAQnfurvtjrQa/Mueg1nSCRFV47JAJ3W/cY/LsYZJINeqwz4FB1bYnhouBmk5s7YZpDmji+GXqvBqQ4LTrb1hvis0Nxt/n2P2PLNBuSmGyBJwKFGZpGIKHoYICU4uQBXfiP2zSKxgy1+dFqNkpEBgLExDpCAvitHxPDQcGuQmmOQQbLanahrl4Oh0YUZypFjNI7ZAnWxAXInG3eyEVEsMEBKcBqNRmnh7hMguTIBzCDFh3jdizKNqoOU/nAXasuZGiWDpPKITWSQem1OdFvtUb22urYeSBJg1GuRbzZg8rBsAP0fGGm1O2Gxy0MgM/1kkADPOiQGSEQUPQyQkkBugOJaHrHFl3jdY12gLbgLteUMklKDpGJIJACkG3QwuDrtor1uRHSwDc1Jg0aj8QiQ+pdBEotqASDd6L++iJ1sRBQLDJCSQG6A9mxRpM0jtvgods1OGqgAabhrFpJYN6J0sanMIGk0Go/vpegtkwWAmmb5mspy5SBuclkOAGDfyXZY7JEPjBTHayaDDvoAYxREBqmKnWxEFEUMkJIAM0iJ6Qf/NRzfmz4MC2aUD8jX81w3IkmSkkHynAgeirvV3//y40h5ZpAAOduVY0qB1e7E/rrIMzuBFtV6OqtQDpBqW3uUgIoS2+7qFuUHPKJExQApCbhb/d3/oEiS5N7DxgxSXJxVlIHfXXkuSrLSBuTrleWmQaOROxpPdVrCziABsWv1F1O0y1yddvIxm5xF6s8xW0eQDjYhy5SiZPM4DynxHajvwJV/+g8Wv7Qr3pdCFBQDpCTgnqbt/um4w2KH1VW8ygzSmcGo16HUFYwdauxUgodwCsSVDFKUW/3dGSSTcttk1/DN/hRqi4yQvxlIns5ioXbS+LJOXkFz+BQXDFNiY4CUBPxlkMTxWoZRz+F4ZxBRh7SnphUAoNUE7u7yJ1YZJDEDSRyxAVAySP1ZOaLmiA0AxhSx1T9Z1LqC6ZYuqzIVnigRMUBKArnpcobIs/PIvWaE2aMziehk23W8FYB8vKbVqp9UHWhkRH/02hxoaJe/H0WRNgBMLMuCRiNnlxo7IhsYKTJIoYJApZONAVLCq22VAyS7U0J7T3THTRBFEwOkJJDjauP2LNLmmpEzk5iFtKdGzsqonaIt5JqjHyCddL3hmQw6ZfkvINcNiQLqPREes4k2/1AZpApXZk28+VLi8lxqHO1mAaJoYoCUBPJcGaQWPxkk1h+dWUQGqakzvD1sQm4MMkg1rje8shxTn71ryjwk15FguILtYfOUnSYHZu3sYkt4nkFsrBYnE0UDA6QkIIpwW3tscDjlM3v3mpHYT3CmxCFqkIQclUMihdwgy48j5a/+SOjvwMhge9g8ZYkAqcfGupYEJkmSknEEot8sQBRNDJCSQLbr2EKS3MW1yhEbM0hnlLJcEzyTNKI+TS1lUGS3/0xLl8WOP285jLc/O6n6MWuae5Rr8yUKtT8/0Qa7wxnWtQLB97B5ynQFSE7Je/o2JZbTXVb02tzfB9Ge6E4UTcH/1aGEkKLTIistBW09NrR0WZFvNvKI7QyVmqJDSWYqTrbJRc9q14wIuR5dbA6nBJ2rwNvplPC3XSfwwHsHcKrDghSdBrPHFanqkAyWQRpVYEaGUY8Oix0HGzoxrjS8qeNqa5BSU3Qw6LWw2p1o77WHzDhRfNS2eNeINbMGiRIYM0hJIs9nmvYprhk5Y4mJ2kB4QyIB72xkW4+cnfn0WDOuWPUxfvX650rgbXNI2F/Xruoxfadoe9JqNZgo5iHVhH/MprbNH3B3urUFyI5R/PkW0bMGiRIZA6QkkeNTO9LUIf+XGaQzT4VHHVI4QyIBORuZ6Qo2Pj/Ritte2oXvrNmKvbVtyDDq8etvjsXXRuUBAPbWtql6THcGqe8RG+BZh9Qa1rUCnkdsoTNCWWny82KhduLyzSCxBokSGY/YkoRnca3TKbEG6QxWkecORMJt8weAPLMR7b123Pj0pwAAjQb47vnD8IvZZyHfbERHrx0fHzqNvSdCB0g9VofSUVcWMkCKcQbJVYckMmOUeEQGqSjTiIZ2C2uQKKExQEoSeR4BUluPDXZXN1temEW6lPw8j9jCbfMH5GD7aJO85uGCEblY+q1zvGqDzh2SBUBdBklkjzJS9cgy+c/yTCqTC7UPn+pCW7ct4P386VTZxQZ4d7JRYhLHsecOyUZDewOP2CihMUBKEp5HbKL+KNuUAoOep6Rnmop8d6Ym3CM2ALjhgnLotBr84GvDMeecoj6zi84dKgdIVY2d6LU5ghZq+9vB5is33YCKPBOOne7G7poWXDymUNV1Op0SOq3q5iABHjVIDJASlsggTRyahQ/2N7BImxIa312ThGcGSelgY4H2GakiLx1pKToY9dqIivTnTR6CV2+egbnji/sERwBQnJmKfLMRDqeEL0MUagfrYPN0nqvdP5w6pE6rHWKkkZojNiWD1Ms2/0RV6/p+EUF4M/exUQJjgJQkPGuQmtjBdkZLTdHhuR9Ow9OLzkeaIfqLijUaDc4dIh+5hapD8pyiHUwkE7VF/ZFBp1U1biBTFGkzg5SQOnptSvAqjnFtDokBLSUsBkhJItejzZ8zkOj8ilxcODI/Zo+vtg5JbQZJDIzcU90Cp1NdxqAzjAJtgDVIiU4cr2WlpSDPbES6K7hnoTYlKgZIScKdQbJ4rBlhgESxce7QbADAvhABUrAp2p7GFGcgNUWL9l47jrgKxEMRLf5mlQESa5ASm2jxH5ItB9N5rn+/WIdEiYoBUpJQJiB32ZhBopgTGaSDDR3osToC3k9tBilFp8WEIdkA1Lf7h9PiD3jWICVWgPSfQ034+FBTvC8j7kQGaYjre0XJinMWEiUoBkhJQrTzWx1OHD0t/wTOAIlipSjTiIIMI5wSAhZqd1rsyk63UAESEH4dkgh0MozqxgIk4hykmuZu3PDUdvzgmU/RlWA74j6qasLD7x9QFmDHWp8Mks92AKJEwwApSaQZdEhNkf+4qho6AQD55vBbvInUkAu1XXVIJ1r93kdkj7JNKarmFIkAaddxdRkktXvYBHcNUuIEIi9vr4bDKcFid6KxI7GOkv73zb3444eHsPlA44B8vROt3itpcn22AxAlGgZISURkkcQbBzNIFEvjlUJt/xmkE82Bd7D5c3aJ3Bl3tKlLVWu3OGJL1hoki92BVz6tUX7f2N4bx6vx1t5rw7HTcoCrdudef/lmkHLNPGKjxMYAKYn4DgVkgESxNMEVIAUq1K5xZZBCtfgLRZmpAACL3YlWFQtlRZF2porsFODOIPXYHLDanao+J5bW76v3Oj4SA14TwVd1Hcr/76/vCHLP6PGtQcpPZ5E2JTYGSEnEc++WRhPZmgkitdwTtTvQbe17bOWeoq0ug5SaolOC/HoV2ZRwi7Q9M02JUKj9/NbjAOS/qwCU5opE4Jk1+moAMki9Nofy/JUMEmuQKMExQEoieR4BUl66AXod//godooyU1HoKtT2dwxT0+zKIIVo8fdU7Moi1beFDpDCnYOk02qU+8Z7FtKXJ9ux43gL9FoNLhtfDCCxAqQvT7r/PI82daHXFrhTMRrqXH/eqSlaJTDiERslOr7DJhHPIzbOQKKBIAq1P/czUTvcDBIAFGe5AiQVGSQxYdmssosNSJw6pBc+kbNHc8YX45xS+TVMpABpf707QHJK7saPWPGsPxLrbfJYpE0JjgFSEvEMkFh/RANhfJCJ2u4ZSGFkkFwBUp2KDJKoQVKbQQISYx9be68Nb+6uBSAvBhZ/VxOlBsnucOIrV92ROO7yDJhiobZV/l4ZktN30TL3sVGiYoCURLwCJGaQaABMGOq/ULutx71XK6wMkuuIrUFVgBTeERvg3scWzwzSul216LY6MLrQjOnDc90BUoJkkI42dcFqdyLdoMM3xhUB8C7ajgXfDjbAe7ZbZ4LNiCICGCAlFWaQaKCJI7ZDjZ1ehdoie5SXboDJoD6AUTJIKo7Y3HOQ1B+xxXsfmyRJeH6bfLx2w4xyaDQa5YeZRAmQxODPsSWZGFcqj174KsYZJN8ZSIA8283k2sfGOiRKRAyQkkgea5BogBVmpqIo0zVR26OwV+xgGxpGgTYQbgYp/CO2eNcgbTvSjEONnTAZdLhy8hAAQKHrh5mmTsuATa0ORgRI40oycXaxHCDtr2uP6TFXbYB6NXayUSJjgJREcphBojjwV6itdgebrxKlBqkn6P0kSYroiC3e+9hecGWPrpw8RMl85aYboNHIxdCJUJAsAt2zSzIxusgMrQZo6bbFNMOlzEDK9v5+YaE2JTIGSEkkjwESxcF4PwMjRQeb2iGRQpErQGrvtfudrST02pywu7It4RyxZcbxiK2hvRfvfVEPALj+gnLldr1Oq/zdTYRjtv2ueqNxpZlITdFheH66fHuMBkY6nJIy1mFIgAwSh0VSIkqIAGnVqlWoqKhAamoqpk+fju3btwe87xNPPIGZM2ciJycHOTk5qKys7HP/hoYG3HjjjSgtLYXJZMLcuXNRVVWlfLy5uRk//elPMWbMGKSlpWHYsGG4/fbb0dbmf2JwoshMTYFOK7fI8oiNBooo1N5b2/8MUoZRj3RX3UmwWUgdFjnA0Wig3F+NeO5jW7u9BnanhPMrcpS1KoL4+xrvTrbGjl40dVqg1QBjijIAyLVIQOwGRja098LulKDXalCYker1sTzX68IjNkpEcQ+QXnnlFSxZsgTLli3Drl27MHHiRMyZMweNjf4XKG7evBnXXXcdNm3ahK1bt6KsrAyzZ89Gba3cVitJEubNm4cjR47grbfewu7du1FeXo7Kykp0dXUBAE6ePImTJ0/iwQcfxL59+/DMM89g/fr1+OEPfzhgzzsSWq0G108fhpmj8zGyID3el0NnCJFBOnSqU9lIH8kMJEBeglukYhaSsofNqFfm5qgRry42m8OJl7bLx2ue2SMhUTrZxPHa8Px0pLkCz7OL5UDpqxhlkMTxWkl2qvIDniAya2dCkfZjG6vwzMdH430ZFAb1h/sx8vDDD+Omm27CokWLAABr1qzBP/7xDzz11FO46667+tz/xRdf9Pr9k08+ib/97W/YuHEjFixYgKqqKmzbtg379u3DOeecAwBYvXo1iouL8fLLL+NHP/oRxo8fj7/97W/KY4wcORL3338/rr/+etjtduj1cX9ZAvq/K8bH+xLoDFOYkYrizFTUt/fiy7p2TC3PiWiKtlCSlYojp7qCZ5BcAZLaPWxCvGqQNu5vQEO7BflmA+a6Jmd7EpmTeAdI7uO1LOW2sR6F2rHgr8VfyD1DapCOn+7CQxsOApAn1F92bkmcr4jUiGsGyWq1YufOnaisrFRu02q1qKysxNatW1U9Rnd3N2w2G3JzcwEAFov8D1BqqjuVq9VqYTQa8dFHHwV8nLa2NmRmZgYMjiwWC9rb271+EZ0pxnsUard229BllVdT+HvTC0UsrQ2eQQq/gw2IXxebaO2ff34ZjPq+R4IJk0GqEwXaGcptY13/f/hUZ0yW/LoLtPsG02dKF9vx093K/9+9bi8aVIy5oPiLa4DU1NQEh8OBoqIir9uLiopQX1+v6jHuvPNOlJaWKkHW2LFjMWzYMNx9991oaWmB1WrFypUrceLECdTV1QW8jvvuuw8//vGPA36d5cuXIysrS/lVVlam8lkSJb9zPQq1xfFaYYYRqSnq64ME0ckWLIMU7h42IR5zkA41duLjQ6eh1QDXTRvm9z6JMk17v0eLvzAkOw0ZRj1sDglHmqK/ckR8v/gWaANAnvnMKNKubnYHSK3dNvzytc/gTICRDxRcRAFSTU0NTpw4ofx++/btuOOOO/CXv/wlahemxooVK7B27VqsW7dOyRilpKTgjTfewMGDB5GbmwuTyYRNmzbhsssug1bb9+m2t7fj8ssvx7hx43DvvfcG/Fp333032tralF81NTWxelpECcezULsmwgJtQc3CWs8apHBkeqwaGaj1Fc9vPQYAuGRsUcC1KyJAaoxj5qDX5sCRU3IA5BkgaTQajBF1SDGYqC0ySEP9ZBvFNO3BXoMk/s5cdFYBjHot/l3VhOdc3zeUuCIKkL73ve9h06ZNAID6+np84xvfwPbt2/E///M/+M1vfqP6cfLz86HT6dDQ0OB1e0NDA4qL+57je3rwwQexYsUKvP/++5gwYYLXx6ZMmYI9e/agtbUVdXV1WL9+PU6fPo0RI0Z43a+jowNz585FRkYG1q1bh5SUwPUORqMRmZmZXr+IzhTiiO3wqU6lmDeS+iMAKM6S3yiDHbG1K0dskdUgOZyScgwYS7WtPXh5u/zD0qKvVQS8X0ECdLEdqO+AUwLyzYY+Y0LEMVssCrVrW8QetsA1SKcH+T42UbM366wC/PqbZwMAlr/7FaoaYrvihfonogBp3759mDZtGgDg1Vdfxfjx4/Gf//wHL774Ip555hnVj2MwGDBlyhRs3LhRuc3pdGLjxo2YMWNGwM974IEHcN9992H9+vWYOnVqwPtlZWWhoKAAVVVV2LFjB6644grlY+3t7Zg9ezYMBgPefvttr5olIvJWkGFESVYqJAl43zXrZyAySOEesRn1Whh08j9rA1GH9McPqmB1OHHBiFxcODIv4P0SoQbJXX+U2aczUBRqR3vliCRJAYdEAu4jNqvdqTqgbWzvxbGmruhd5AAQk+eH5ZqwYEY5LjqrABa7E3e8sicmdV8UHREFSDabDUaj/Bf+gw8+wH//938DkOt/AtX5BLJkyRI88cQTePbZZ7F//37ccsst6OrqUrraFixYgLvvvlu5/8qVK3HPPffgqaeeQkVFBerr61FfX4/OTvfZ+WuvvYbNmzcrrf7f+MY3MG/ePMyePRuAOzjq6urCX//6V7S3tyuP43DE/qdOomQkskgiyxDoOCkUsY/tVKcFNof/N4dI9rAB8nHRQA2LPHyqE6/vkksNfjVnbNBxBCJA6ui1o9cWn39j/NUfCaJoO9pHbM1dVvTa5D/jkuy+P4SaDHqkpshvQ80qjtkkScJVq/+DuX/4l1LInwyqla7PNGg0Gvz+mgnIMaXgi5PteOSDg3G+OgokogDpnHPOwZo1a/Dvf/8bGzZswNy5cwHI84Xy8gL/FOXP/Pnz8eCDD2Lp0qWYNGkS9uzZg/Xr1yuF29XV1V5B1+rVq2G1WnHNNdegpKRE+fXggw8q96mrq8MNN9yAsWPH4vbbb8cNN9yAl19+Wfn4rl278Mknn2Dv3r0YNWqU1+OwtojIP1GoLYQ7RVvISzcgRaeBJAXOqETaxQYM3CykhzcchMMpofLsQkwpzwl+Tal6GPTyP7fhZJG+ONmGxz+sikqWwXPFiK+zXEMj69t70RLFjjKRPSrMMPrt7gM86pBUFGo3dVpxoqUHvTYnGtqTo7C7rcemfC+KvzNFmalYftW5AIA1Ww5j+9HmuF0fBRbRwJ+VK1fiyiuvxO9//3ssXLgQEydOBAC8/fbbytFbOBYvXozFixf7/djmzZu9fn/s2LGQj3f77bfj9ttvD/jxiy++eFCfdxPFwrlDvQOkSI/YtK6JyrWtPahr60Wpn6OXSI/YgIHpZNtX24Z/fC7/4PaL2WNC3l+j0aAww4gTLT041WlRXb/123f2Y+uR0yjPS8e3J5ZGfL1Op6Rk/saV9g2QMlJTUJabhprmHnxV34EZQY4Lw1EbpINNyDMbUNvao6pQ+9hp99FasFU1iUTUH+WlG5Du0XQwd3wJrpkyFK/vPIGfv7IH794xM+y5XxRbEWWQLr74YjQ1NaGpqQlPPfWUcvuPf/xjrFmzJmoXR0SJwzODpNHAb2CjljhmCzQPpj8B0kDMQnro/QMAgP+eWOo3I+NPJHVIou2+v0Mca1q60Wmxw6DXYkS+/yn8sahDClZ/JIQzLPLoKXeA1GVJjnIIsZbHX1C87NvjUJabhtrWHtz79hcDfWkUQkQBUk9PDywWC3Jy5LTy8ePH8eijj+LAgQMoLCyM6gUSUWLINxtR6gpsijNTlSOjSIgAqS5AoXaHqEEyhv8TdZZHq38sfHqsGZsOnIJOq8GSb5yl+vOUTjaVAVKvzaEcIx1s6N98IhFgjSnKgF7n/8/t7Bi0+gebgSSEMyzy6GnPACk5MkjVQabOZ6Sm4JFrJ0GrAd7YVas0QFBiiOhfuCuuuALPPfccAKC1tRXTp0/HQw89hHnz5mH16tVRvUAiShyiUDvS4zVBdLIFziAlZg2SJEn4/Xo5e3Tt1DJUBMjG+KPMQlIZIInMAwAcauxf0OKuP8oIeB9laW0MMkj+ZiAJeenqh0V6ZZCS5ohNdLD5fw2mVuRiwYwKAMB7XzT4vQ/FR0QB0q5duzBz5kwAwOuvv46ioiIcP34czz33HP74xz9G9QKJKHFMHiZnjUfkm/v1OCWhMkhiUGSC1SBtOXgK2481w6DX4vZLR4X1ueEesYk3VgA43tzdr+63L4N0sAljXRmkAw0dcERpyrOaGqTcMIZFHjudfEdsSgYpSFPDqEL571OnJXk6884EERVpd3d3IyND/sv0/vvv46qrroJWq8UFF1yA48ePR/UCiShxXH/BMGg1wLf6UTAMuPexNQQMkOQ3ikiKVsXnRDtAcjol/P49OXu0cEY5SrLCy6KFGyB5rqeQJHmlyXifTkK1xJLaYPVS5XnpSE3RotfmxPHTXRhR0L8gGAi+h00Qs5BCHbE5nRKONiVhkbYrEzgsSGF+ulHu8OsegOGmpF5EGaRRo0bhzTffRE1NDd577z1lvlBjYyMnTBMNYhmpKbh51siIltR6UjJI7T19PmZzOJXZOf3qYovynJx399Xji5PtSDfocMvF4WWPgPCnaXsGSABQFeExW2u3VQlUzvbTwSbotBqMKYreRO1Oi1055gzaxaaySLu+vRcWj3EHyZBBcjolnHBlAoN1LqYb5O/zziSpqzpTRBQgLV26FL/85S9RUVGBadOmKVOv33//fUyePDmqF0hEg487g2TpM3Kj06O4OtxdbIB7H1s0a5DsDice2iBnj340c4RSWBwOkUFqUn3EJgdIRlcxfKSF2iJ7NDQnLWRGTulk62fXHOA+XstKSwn656i2i+2oz/TsZKhBauywwOpwQqfVKD8U+CNen2QpPD9TRBQgXXPNNaiursaOHTvw3nvvKbdfeumleOSRR6J2cUQ0OIkAyepw9nljFPVHaSm6gB1XwbhrkKL3ZvPG7locOdWFHFMKfjRzeESPUeh6zqc6+gaF/ogMklhhUhVhgKSm/kgQO9n2RyGDVNvq2sEWItvoOSgy2OvSJ0BKgmBC/BmWZqcG/V5OVwKkxM+KnUki7tMtLi7G5MmTcfLkSZw4IY/bnzZtGsaOHRu1iyOiwcmg1yLfVXviu7S2vR8dbED05yBZ7A784YMqAMCtF48Ke/2JIJ6v1eEMGbxJkqRkkC49W94qEOkR2/66wBO0fUVzFpKaAm3AXYPUa3MGrcERAVKKTl7pkgz1OjUqCrQBd4DEI7bEElGA5HQ68Zvf/AZZWVkoLy9HeXk5srOzcd9998Hp5OI9IgpNzELyXVrr3sMWWYAU7Rqkv39Wh9rWHhRlGnHDjPKIH8eo1ynXdqoz8KJeAGjptinLW78+Vp4tV93cjZ4IggLR4u9vgrYv0clW09zT711nJ1QMiQQAk0GnHCMGO2YTC2rFWpRkCCZEBilYgTbgWaSd+M/pTBJRgPQ///M/ePzxx7FixQrs3r0bu3fvxu9+9zs89thjuOeee6J9jUQ0CIlZSL4ZJPcU7cgyNWIOUrfVEXAZbjhe3SHvZ1wwowKpKf73iamlzEIKsUdMvLEWZ6ZiSHYactMNkCR5QW44rHYnDjXKn6PmiC0n3YCiTPkaDzb075hNZJBCzczSaDRKoXawTjaRQTrHFeglQzBRE2SKtieRQbI5JFjsiZ8ZO1NEFCA9++yzePLJJ3HLLbdgwoQJmDBhAm699VY88cQTeOaZZ6J8iUQ0GAXKIPVnSKT8ee7Aqr+t/seaurD9aDO0GuCq84b067EA9Z1sntvfAWC0a05OuMdsh091wupwIiNVr3q4pzhm29/Pidpq1owIuebgwyLtDqfymohRB8lQr6Omgw1wd7EByfG8zhQRBUjNzc1+a43Gjh2L5mZuJSai0JQMUp8AqX9HbDqtBhnG6EzTfn2nXF85c3RB2HOP/FE7C6nGZz3F6CI5QAq3k82z/kij0aj6HFGo3d86JLU1SIB7WGRTgGGRJ1p6YHdKMOq1GOmaz5RMRdplIV4DnVaDNFd2Mhme15kiogBp4sSJePzxx/vc/vjjj2PChAn9vigiGvyKXQGH7xFbZz/2sAmZUdjH5nBKSoD0nalDI34cT+EGSKJ2RdTdVIV57KXUH6lcqAsAZ7sySAf60clmsTuUlSpqMkj5IVr9xQ624fnpSkt8ohdp99ocaOiQv7dD1SABLNRORBH9iPbAAw/g8ssvxwcffKDMQNq6dStqamrwz3/+M6oXSESDU6AMUn+72AA5QKpt7elXBumjQ02ob+9FtikF3xhXFPHjeFIbIPmupxhdKAdIYWeQ6sMPkJQMUl0HJElSnXnyVNcq/5mmpmhVzYwKNQtJFGhX5KUrBc2JHkjUtvZAkuQidDWvQbpRh6bO5KitOlNElEGaNWsWDh48iCuvvBKtra1obW3FVVddhS+++ALPP/98tK+RiAahwDVIke9hE7Jchdr9qUF6zVWcfcXEUhj1/SvOFgoz1NUgKesp8kQGyazcrraTTZIkjyW16gOkEflmpOg06LDYlTqicHnWH6kJsEQNUqB9bKJAuyI/Xcm0JHog4ZkFVPMauKdpJ3Zm7EwS8b9ApaWluP/++71u++yzz/DXv/4Vf/nLX/p9YUQ0uIkAqcNiR6fFrhyd9LeLDej/LKTWbived21W/87Usoivw5eaDJLN4cTJVu+jmTyzEXnpBpzusuLwKXU72RraLWjptkGn1Sg1TGoYXHU+X9V34Ku6DgwNMcPHH3f9kbrPda8b8f+6iABpRH46TAZ3x5fV7oRBH/E4v5gSAZLa1y9W07Stdid2HG/GlPKcqAX6Z4rE/M4iokHPbNQrxdSeWaTOKByxZfVz3cjbn52E1eHE2SWZSlt5NKgJkOpae+FwSjDotUrXG+De+K62/f7LujYAwMiC9LDHE4iMU6SF2mpnIAm5yjRtFRkkg/u5JHJBc40rSFRTfwQgZkeHz/znKL73xCd46qNjUX3cMwEDJCKKmyJXFqnBo1BbZJAy+1mDBEQ+LFLMPvrOlKER1eAEIgKe013WgDOalNk5OWnQat1fWxRqq61D2lMjB0jh1B8JYmBkpCtH1M5AEvKCHLFZ7A7lyG54fjr0Oq0yWDKR97FVn/Ye1RBKeowySEeb5Ov4/ERrVB/3TMAAiYjiRizwrGvrGyCZ+9HF5t7HFn6AtL+uHftq25Gi02De5P7PPvKUYzJA5wp6AtXbBJq+LOqQ1HaybTl4CgAww7XLLRxjS/q3tFbtHjYhL0iRdvXpbkiSnHEU61rSk6CTTakjU5tBMsTmOYkfEnx32VFoYf2IdtVVVwX9eGtra3+uhYjOMGJprXcGKQpdbKmiSDv8n8Zf2yG39leeXaSq+ygcWq0G+WYDGtotONVhUeqwPFU3+5++PFpkkFQMizzdaVEyBhePKQz7OkfkpwOQj4ki6WQTNVSlqo/Y5Ne5x+ZAt9Wu1BkB7jf24fnpynWkG3Vo7krsTrZAf46BxKrNX/yQcLSpC06n5JWVpODC+hcoKyt4YWBWVhYWLFjQrwsiojOHO4Pk7pbq6OcuNgDIMkVWg2S1O/HmnloAwLVRLM72VJBhlAOkzl4Aff9N9Z2BJIhp2idaevoEEb7+VXUKkiTXEokgNNxrBOTXo63HhmyT+kBRkiRltlWJnwDQH7NRD4NOC6vDidOdVphy+wZIFa6gDfDItiRox1dbt03JhIZaVCuYjbEZFClmgVnsTtS196rO6lGYAdLTTz8dq+sgojNQkTILSS5adjolj2W1/e9iC7cG6cOvGtDcZUVhhhEzR+dH/PWDUdaNBCjUDtT95NXJ1tiFc4cG/oF101fy8drXxxREdI2pKTpkm1LQ2m1DQ7slrACptdsGq12uryrMNIa4t0yj0SA33YD69l40d1m9si7HPIZECiZXoXai1iCJ7FG+2Yg0g7oC+VhlkDo8fkg4eqqLAVIYWINERHEjMgz17XIGqctqhyTJH4tHF9urruO1q84bCr0uNv88FmbIzzlQgBRsA7x75UjgYzaHU8K/quQAKZLjNaEoo+/xpxoie5SbbgirrTzP7L8O6cgpESC5X49YFTRHi7v+SH0wEqvn5Pl34GhTeINGz3QMkIgobnwzSOJYIkWnUTqVIpEZQZF2Y3svNh9oBBC91SL+BGv17+i1oaVbvmZ/3U9nqahD+uxEK1q7bchI1eO8YdkRX6fI/oQbIIn7h3u0J+qQfFv93Rkk9ywnccTWlaBF2uHWHwHuNv9oFmlLkuSVRT3CQu2wMEAiorgRGaSmTgusdqfX8Vp/2uuzPHaxSSIlFcIbu2vhlIAp5TnKQtRYKAgyTbvGtf09x5Ti94hRFGofCtLqv/krOci7aHRBv7JgYhVMY4i1KL7cAZK64zXB37DILosdDe3y74fneRyxiWAiUTNIQbKAgbgnaUfvOfXanLA53N//7GQLDwMkIoqb3HQDDK438caO3qh0sAHuGiSHU1KVZZAkSZl9dG0Ms0eAO0BqbO8beAQ7XgPchdrBMkibXe39syKsPxL8dRiqIQKa4rAzSK4ZUR7jD0T2KDfdoBTeA7GbOh0tvrv01IjFc/KtwWOAFB4GSEQUNxqNBkVZ8htjfVuv0nEj3iwilZqiVQIvNXVIu6pbceRUF9JSdLh8Qmm/vnYowTJIJ1qCH82II7aa5h6/u8hOdVjw+Ql5QOTFZ/U3QHL/uYRD1CAVhhkgKcMiPY7YlA62PO/Xw5TgR2wnXIMywztiEwFS9J6TOGIWs7dqmrthsSfma5aIGCARUVyJTEN9e6/HHrb+BUgajQaZYSysFYtpv3luSb+Ds1CCdbGFql3JTTcowxIPNfY9ZvuXK3t0Tmlm2AGKL/H5DWEesTW6AqRwM0j+hkUea+pbfwTEriU+lC9OtqHXFjzAcDglj0A3/CLtaB6xiR8OSrNTYTbq4ZTcx38UGgMkIoqr4iz5TaS+rRedUVhUK2Sq7GSTJAn/3FsHALhmSmyP1wB3Bqnb6ujzBh/qiA0ARhcGXjmyyVVk/vV+dK8J4oitMcIutnBrkPwVaR9p6tvBBsQng7ThywZc/seP8Ot1e4Per6G9FzaHBL1Wg5KscAIkUaQd/SO2rLQUZUyC6Aqk0BggEVFcFbveSOvaoleDBHjMQgoRINW3y0d7Oq0GU8pz+v11Q0k36pU5Pr5ZJDXFvcrKEZ86JLvDiX9XNQEALu5n/RHgDnAaOyxwOtUVugPuGqRwu9jcbf7u1yRQBik9DkXaG76sBwD8/bOTfleiCOLPcEhOmnK0pYbIINkcUtSOwcQkec8AiXVI6jFAIqK4UjJInkdsUTjmUjsLSfxEPSzXBEM/RguEo9BPHZLTKSkb4IMV945y1SFV+WSQPjvRirYeG7LSUjCpLLvf11hgNkKjkY+MfFvvA7E5nGjqjCxA8lek7Z6i7f16xGqoYjCfHmsBIAcwb+6uDXi/SAq0AXcXGxC9OiSRQcpMZYAUCQZIRBRXyrBIrwxS9I7YROF3IEdOyYHGyIL0oPeLJn+zkBo75FEHOq0GJdmBg4uzCv0PixTTs2eOzo/KkEu9Tot8c3izkJo6LZAkQK/VKDVFaokjtm6rA702B9q63TOhKvK8/2xitdg1kMb2Xq/A4tUdNQHHR9REUKANyIXUaSnRra0S2dPM1BSMcH1/cxaSegyQiCiu3MMio1ekDQBZriLtUBmkw64M0ogYzj7y5S9AEtOXS7NTkRIkwBGdbCdaerzeSDcflOuP+jM921dRmMMiRcdbYYYx7KWomal6pOjkzzndZcVRV4t/UaZRyRgJA71qZPuxZgBAeZ6cZfyqvgP7atv93remOfwCbUEcHUYrMyZ+OMhM0zODFAEGSEQUVyKD1NDeqxwJRCWDpLIGSfxEPSJ/ADNIZlHf4w48qk+rO5rJSTcomR3RydbY0au8Yc/qZ3u/J/e6EXWdbOJ+kXTQiX1sANDcaVXWYgz38+cy0KtGth+VA6SvjynEnHOKAQCv7azxe99IhkQK0X5ebd3uDJJY9nuqw6Jkaik4BkhEFFcFGXKti90p4ZgrSDBHJYOkMkByHbHFO4OkpoNNcBdqy9e+5YB8vHbukCzlsaOhMMxhkSLgC7fFXxB1SE1dFhxtkl+PYAFSdxRnBgUjAqRpw3PxHVen45u7a/22/EdagwREf4WK0sVmSkFmaooSWB9rYqu/GgyQiCiuUnRaJaMiupai0sWm1CAFDpB6bQ7Utso1IyPiXINUE2JIpCcxUbvKVYckpmd/PQrda57cnWzhHbGF2+Iv5HllkEQHm58AyeOITe0qmUi1dltxwPU6n1+Ri6+NykdpVirae+14/8sGr/v22hzKapZIMkjRnqbtWaQNuLOkR7i0VhUGSEQUd8WuYza7q508M4oZpGA1SMdOd0GS5K8XblFxf/ibpl0TxoJTsZPtYEOH3N6vrBeJXv0R4M4EhXvEVpQVaQbJPSzymDJFO3AGySnJ+8ZiacexFkiSHEAXZBih02qUeVliwKggBkSajXpkm8I/Jo56DVKPuwYJcP8QwDokdRggEVHc+R7JRLcGKfCbzRGPAu3+LMcNV4FZfr6RH7G5h0XurmlFe68d2abotPd7Cncfm7KoNiOyAMlz3Yh4E/eX2RPdXkDsC7VFgfb04bnKbddMKQMAfHSoSclAAu5lw2W5poi+n0wxziCxUDs8DJCIKO6KfTIO0Vj3oSaDdLhR1B8N3PEa4M4gNXVa4XRK6LU5lOxLODVIta09+Mfn8hTwi0YXhDWYUI3CMLvYxP18/zzVElm8gw0d6LTYodX4z6hptRp3J1uMC7U/8ag/EoblmXDBiFxIEvC3nSeU2931R+F3sAGA2RDlIm3R5p/GACkSDJCIKO5831CjU4Pk2sUWpAZJdLCNHMACbUDOlIghjC3dVmW5abpBhxwVRzPZJoMSZL3qOuaJxvRsXyKD1NRphc0R+igr0jUjgijS3nlcHso4JCcNRr3O731jsdzVV5fFjn218vLfacPzvD527VQ5i/Tazhpl0nh/OtgAj+cUhSJtSZKUBgXxw4JyxHaqK+a1W4MBAyQiijvPIzaNxnuqcKTEm0K31RHwzV3pYBvAFn9ALkzPNcnZklOdFq/6I7VHM6JQu9vqgEYDXBTF9n4h12SA3pWV8rdc11O31a7MsQp3irby9VwZJJH58Fd/JIhC7WjuLvO1u7oVDqeEIdlpGJLtnRW6bLy82LimuUfJMoVaNhxKNJfwdlkdEBtixBFbWa4JWg3QYbGjqVPddPQzGQMkIoo7zwyS2agPe8igP551TP5a/SVJ8qpBGmgiA9TYblE62MLJPIg6JACYMCRLaeGOJq1Wo6xFCXXMJo4ITQZdxEekogZJ8NfBJgzEupHtR08D8D5eE9IMOnx7YgkAd7G2mKLd3wxSNJ6T+J5P0WmQmiK/1Rv1Ogx1jR8QPxxQYAyQiCjuPDNImVEo0Abk1Q1ip5u/OqRTnRZ0WOzQaOQJyQPNs9VfGRIZxhvr6CJ3UBfN6dm+irLUdbIp9UeZqREXvPt2EgYNkAZg3Yi/+iNP33Eds/1zXx3ae239mqINRLdI27NA2/PPg3VI6jFAIqK4880gRUuwfWwiezQ0Jw2pKf7rXGJJzH461WkJq4NN8MwgxaL+SBAdaaFmIYkAqTDC+iMAyEv3/tyKIAGSKYrHUf5Y7A7srmkFEDhAmlyWjVGFZvTanHhh23El8zM0giGRgOcRW/+DPmWKdpr3DxwMkNRjgEREcWcy6JXZR9Eo0BYyg3SyKcdr+QN/vAZ4Z5AiOZo5uyQT+WYjRhWaMWFodiwuEYD6fWyeGaRIZabplZonIHhtWKzXjew90Qar3Yl8syHgdWg0Glw7VZ6J9OctRwDIe+giDbjdk7SjkUFyzUDy+fuULEtrtx9txj/31ilZuXhggERECaEkSz6WiGqA5HosfzVI7hUjA1ugLSg1SB2WiI5mzEY9Ni6ZhXW3Xhj19n5Phcoy4eBHbOLjkRZoA3LAkeM6ZtNrNX0Koz25p2nH5ohNHK+dX5Eb9Mhw3uQh0Gk1ShAeaf0REN1J2u09yZ1B+utHR3Dri7uw+UBj3K6BARIRJQRR6xKNIZFCsFlIypLaOBRoA+4Aqco18wcI/2gmy5QS1dfLHxHwhDxi6xBHbJEHSIC7DmlYngl6XeC3KJNSgxSbDNL2EPVHQmFGKr7uUQMWaQcbEN3RBUoNUoAA6fjpLjicidvqLzoiY/39HQwDJCJKCCWuN9ZoLKoVgu1jExmkkXHOIIk9X0WZkR/NxJLqI7a2/h+xAe5OtuFBWvwBz2xL9DNIdodTmcUUKkACoByzAf0NkKK3akRZM+ITYJRmpcGg18LmkFDb0uPvUxOCCJDEPLN4YIBERAlh0rBsAMDZxRnB7xiGQBkkq92p1P0M9JBIQbTPi3l9kWx/Hwhq97GJDFKkQyIFMSwyWAcbENsi7f11clYvI1WPscWZIe//9bGFyHcFdpFO0Qa866r6O8jRnUHyDjC0Wo0SfCby0lpx/cwgEdEZ77vnl+Hjuy7B9ReUR+0xA+1jq26WjxfSDTolUBloYh+b0J/alVgSR2ZtPTb02vxnayRJci+q7WcGac45RSjKNGLO+OKg94tmQbMvsX/t/IpcVfVdKTotfjtvPL55bjEuO7ck4q8rAiS7U4JVxeTyYJQ1I34CjGSoQ1IySHEMkOKXuyIi8qDRBC/KjURWmv8i7cNxWlLrKTNND4NOq7wR9udoJpYyU/VITdGi1+ZEY7sFw/zMjGrttsFql59Hf9r8AeBbE0rxrQmlIe8Xy1UjYkDk+RWhj9eEueNLMHd85MER4D1BvsviCLhmRQ3fNSOehhckdoAkSRI6lAwSj9iIiKIuUA2Se4J2fOqPADkgLPDIXiVqgKTRaJSsUH2AOiRxe266oV9v6uGI1aoRSZJUF2hHm06rQVpKdI4OAxVpA4mfQeq1OWFzyEeMDJCIiGIgUA2SewdbfOqPhHyPAClRj9gA97DIQIXaypDIATyudK/liG4G6VBjJ1q6bUhN0eLcIVlRfWw1olWo7S7S7htgiLlO4geFRCOyR9oo7WWMVEIESKtWrUJFRQVSU1Mxffp0bN++PeB9n3jiCcycORM5OTnIyclBZWVln/s3NDTgxhtvRGlpKUwmE+bOnYuqqiqv+/T29uK2225DXl4ezGYzrr76ajQ0NMTk+RFRfCgZJN8AqSn+GSTAPU0bSOwAqTBEJ1ujq/7IcyJ6rIlAItoZJDH/6LxhOTDoB/4tMloDMNVkkE629QSsK4snce3R2ssYqbgHSK+88gqWLFmCZcuWYdeuXZg4cSLmzJmDxkb/w6E2b96M6667Dps2bcLWrVtRVlaG2bNno7a2FoCcHp03bx6OHDmCt956C7t370Z5eTkqKyvR1eWOln/+85/j73//O1577TVs2bIFJ0+exFVXXTUgz5mIBkagDNLhOA+JFMQRm0GvjVuxuBrFyiwk/51s4ohNZJoGgpiDFO0apE+Pxed4TXAXn/fveQUr0s5NNyAzVQ9JAo6fjt+k6kDaE2AGEpAAAdLDDz+Mm266CYsWLcK4ceOwZs0amEwmPPXUU37v/+KLL+LWW2/FpEmTMHbsWDz55JNwOp3YuHEjAKCqqgrbtm3D6tWrcf7552PMmDFYvXo1enp68PLLLwMA2tra8Ne//hUPP/wwLrnkEkyZMgVPP/00/vOf/2Dbtm0D9tyJKLaULrZed9t0c5cVra49VaFayWNNBEVDc9Li+pNyKEWZ6o7YigYwgxTNqdOCJEn45IgrQAqjQDuaovG8nE5JOaLzV6St0Wgw3DXe4mgCtvq7ZyCdwQGS1WrFzp07UVlZqdym1WpRWVmJrVu3qnqM7u5u2Gw25ObK38wWi/wTTmqq+y+qVquF0WjERx99BADYuXMnbDab19cdO3Yshg0bFvDrWiwWtLe3e/0iosQm3hwcTkn5iVzUH5VmpSpZiHgpzZb/nQo1FDHeQh2xKQFSPzvYwmFyFWn32BxRmwh9oqUH9e290Gs1mDwsJyqPGS5TFGqQOix2Zb5WoCJnUYd0OAHrkMSReDwLtIE4B0hNTU1wOBwoKiryur2oqAj19fWqHuPOO+9EaWmpEuyIQOfuu+9GS0sLrFYrVq5ciRMnTqCurg4AUF9fD4PBgOzsbNVfd/ny5cjKylJ+lZWVhflsiWigpaZokaKTMzPiH90jHi3+8fbNc0vwk1kj8fNvnBXvSwlKWTcSYFikmIHU3yna4RC1OoAcJEWDqD+aMDQLaYb4TDWPRg2S+F436rUBp7MncidbIsxAAhLgiK0/VqxYgbVr12LdunVKxiglJQVvvPEGDh48iNzcXJhMJmzatAmXXXYZtNrIn+7dd9+NtrY25VdNTU20ngYRxYhGo+lTh3S4KTHqjwC5xuKuy8ZifBy6pcLh2ebvb8KzUoM0gAGSUa9VhjhG65hNzD+aNjwvKo8XCbMhCgFSkAJtYUQCz0ISXWz+OvAGUly/en5+PnQ6XZ/usYaGBhQXB5+i+uCDD2LFihX44IMPMGHCBK+PTZkyBXv27EFbWxusVisKCgowffp0TJ06FQBQXFwMq9WK1tZWryxSsK9rNBphNCZuESUR+ZeZmoKmTmvfDFKc64+SiaiV6rY6XCs43G+8docTTZ3RmaIdDo1GA5NBh45ee9QCpE+PyfvXpsepQBvwyCD1o0jbXaAd+C0+kTNI7QkwJBKIcwbJYDBgypQpSoE1AKXgesaMGQE/74EHHsB9992H9evXK0GPP1lZWSgoKEBVVRV27NiBK664AoAcQKWkpHh93QMHDqC6ujro1yWi5JPpk0FSZiAlwBFbskg36pHheuP23cl2qtMCSZKHHOalGwb2uqLYybb3RBuONnVBp9XgvPL41B8BgDkKO+bEDCR/BdpChavuTW5asEb8tWIhUYq0475qZMmSJVi4cCGmTp2KadOm4dFHH0VXVxcWLVoEAFiwYAGGDBmC5cuXAwBWrlyJpUuX4qWXXkJFRYVSM2Q2m2E2y//gvfbaaygoKMCwYcOwd+9e/OxnP8O8efMwe/ZsAHLg9MMf/hBLlixBbm4uMjMz8dOf/hQzZszABRdcEIdXgYhixT1N2w67w4nqZrmtORGO2JJJUVYqOho70djei1GF7uBSBEyFGcYB78QTs5CisY9tzZbDAIBvTygJGljEmkkZgBnbI7Z0ox7Fmamob+/F0aYuTB42sMFtMIlSpB33AGn+/Pk4deoUli5divr6ekyaNAnr169XCrerq6u9aodWr14Nq9WKa665xutxli1bhnvvvRcAUFdXhyVLlqChoQElJSVYsGAB7rnnHq/7P/LII9Bqtbj66qthsVgwZ84c/OlPf4rtkyWiAedZg1TT0gObQ0JqihalWdHd+zbYFWUacaixEw0d3p1s9W0DX38kiOOo/g6LPNrUhX/uk5t4fnLxyH5fV39Es0g7VJHz8Px0jwApflkzXx0JMgcp7gESACxevBiLFy/2+7HNmzd7/f7YsWMhH+/222/H7bffHvQ+qampWLVqFVatWqX2MokoCYk6jPYem3K8NjzfnNBzhxKRe92I9xFbY8fAt/gL4oitv+tG/vKvw5Ak4JKxhRhbnBmNS4uY+4gt8ufUrhxRBX+LH16Qjq1HTidcHRK72IiIBoBnBikRltQmq0LRydbmP4M0kC3+grJupB/Zlob2Xvxtp7yJ4ZY4Z48Az0nasc8gKTvZEixASpQi7YTIIBERxYq7BskGS5P8U/lIdrCFTWSIGn2O2JQapDgESKYorOV46qOjsDqcOL8iB+fHaXq2p2hM0hYBUqhaKqWTLcGGRbJIm4hoAGR5LKwVRw/sYAufe92I9xGbmKIdnwxS/4KJtm4bXth2HEBiZI8Ad5F2/47YQhdpA96t/pIkQaNJjGPnRMkg8YiNiAY1ZR9bj51HbP0QaB9bQxyGRArphv51sb3wyXF0WR0YU5SBr48pjOalRcwchVUjos0/1BFbWa4JOq0GPTYHth4+HfHXiybPPXIMkIiIYkhkkE60dCsDDeO9pDYZKUds7RavadpiinZx1sAXaYtsS3cE2ZYeqwNPfXQUgJw9SpTsiWdWzN/UcjXcGaTgAUaKTouvjcoHAFz/10/whw+qYHc4I/qa0dJpde+RY5E2EVEMiTeJk65i4sIMY9zbh5NRgWuattXhRGu3/AbcbbUr9SLxqEHqz1DF13bW4HSXFUNz0vCtCSXRvrSIiQDJ7pRgjTBYUVukDQCrvjcZV04eAqcEPPLBQVz3xDbUtvZE9HWjQVy7QRd4j9xAYYBERIOab6Eqj9ciY9TrkOualC2yRqIeyWTQKZO2B5Ipwo4vm8OJP285AgD48UUjoNclzluh6GIDIq9DalNZpA3Is4YemT8Jj8yfCLNRj0+PtWDuo//CO5+fjOhr91eHyhEFAyFxviuIiGLA96doFmhHTuxka1ACJHf9UTyOqJQ2/zC72P7xeR1qW3uQl27Ad6aUxeLSIqbTapCaIr81R5IZszucSldfOF1gV04ein/ePhOTyrLR0WvH4pd24/+9/lnU9typlShDIgEGSEQ0yPkWenJJbeREIXajK3PkDpDis8jbPShS/Zu4JElYvVleK7LoaxVIM8T3GMcfcz/WjYgAAwi/yHlYngmv/WQGfnrJKGg0wKs7TuBbj32Er+rbw76OSCXKmhGAARIRDXJ6nVZ5wwGAkcwgRazYp5Mtnh1sgMeqkTCOojYdaMSBhg6kG3S44YKKGF1Z//RnfIEo0DYZdEiJ4OgwRafFL2aPwcs3XYCSrFQcberCPW/uC/txItVhUV8/FWsMkIho0POsxWANUuREpkjsYxM1SPGYgQS4A4lwMi0ie/T9C8qRZYr/m7A/6f0YgKm2xT+UC0bk4c83TAGAAV1F4j5iYwaJiCjmxD+2Bp0WQ3NMcb6a5FXoMyxSFGvHo4MNcM9BUrus9tNjzfj0WAsMOi1++F/DY3lp/dKfadrhFGiHIgLf5i4rHM7IRg6Ei0dsREQDSLxZlOfJg/EoMu4apF6v/8Yrg6RMnVaZaXn5k2oAwJWTh8TtWFANUz+GRaqdgaRGjqtr0SkBrd3Wfj+eGomyqBZggEREZwDRzcPjtf4RR2wic1Qf5yJts+soymp3wqZiZtDx5m4AwEVnFcT0uvqrXzVIYcxACiVFp0W26xjydNfABEjuNSMMkIiIYi7H9Y88C7T7R2RdTnVYYHc4laO2eGVjPDvQ1BRqi0W7hXEK6NQSgV9/irSjteg13yy/VmIKfay1J9AcpPhfARFRjF1/QTm6rA589/xh8b6UpJZvNkKrkY9cDp/qgtUuZ23iFXAY9FoYdFpYHU50We1Bi64lSVLGE4h5TokqPcyjQ0/uIu3ovL3npRtwCEBT58AesTGDREQ0ACYMzcaq752HYXks0O4PnVajrBz5/EQrADk7Z9THb5ZQusp1I+29dlhEQJeRuPVHgPrn5E80i7QBdwbp9EBlkFikTUREyUgcp31+os3r9/FiUtkSf8p1vJZh1CfkcEhPkYwvEKJ9xJZnlgu1Tw9YBolzkIiIKAmJ7MvntYkRICnrRkIEE+J4rSDB64+AxCnSBoC8dFcGqWtga5CYQSIioqQiOtb2n5TXT8SrxV9Qm21p7EiO+iMAMCtHbBHUIEW5yFlkkAauBim6R4T9wQCJiIhUExkjq6utPl4t/oKYOh1qYa3SwZbg9UeA5yTt+GeQBrIGyWp3otcmf18xg0REREnFN2NUlBXvDJK6oYqnkiiDFI1dbNFr8x+4DJLIHgHw2p8YLwyQiIhINd+W/qI4Z2TcGSSVR2xJVYMU/hFbtLvY8gYwgyRa/NMNOugjWLQbbfG/AiIiShq+RdnFcc4gmVTW67hnICX+EZs5wlUjFrtDOaKKWpG2K4PUZXWgJ4K5TOFIpBlIAAMkIiIKg2+AFO+MjNrjKHcNUjJlkOyQJPVLYkWAAQDmKNXwZBj1MLiyObHuZHOvGYn/8RrAAImIiMKQY0pBik5e+KvTapCfnhhF2qHmICXjEZvdKSnF8GooQxaN+qgtZdZoNAM2C6kjyvVT/cUAiYiIVNNoNMoxVWGGEdoovRFHyuQa+hisBqnX5lCyKwVJcMRmSnEPsgynDsnd4h/dAEPpZIt1BqkncWYgAQyQiIgoTKLuKN5DIgF3t1OwIzZRf2TUa6O2oyyW9DotUlPkt+dwOtlEgXa0AyRlFlJHbDNI7Qk0RRtggERERGESs4/iPQMJAEwqOr6U+qNMIzSa+Ga81DJHsG7EPQMpukGgmKbdFOMMUkcCTdEGGCAREVGYROYo3lO0AbklHAh+xOaeoh3/61UrkllI0Z6BJOQPUA2Su0g7MTJIiRGmERFR0rhu2jA0tPfie9PL430pqlaNNLYnTweboLb43JOo4Yn2EZW7SHtgMkjRWpPSX4lxFURElDTOKsrAn74/Jd6XAUDdqpFk2sMmpCvzncLPIEV7j5l7Ye3AdLElSgaJR2xERJS01Kwacbf4J98RWzg1SO4i7ejmPvJdgWWs1424M2CJkbthgERERElLBBLdVkfAoYoiQCpIqgxSBDVIUV5UK+Sli31sMT5is7CLjYiIKCrEHCSHU4LF7n+oYjLWIJkNkRRpx3YOUnOXFU6n+sne4eIcJCIioigxGdxvpoGCiVPJ3MUWVpF2bNr8c10ZJIdTUo7xYoGTtImIiKJEp9UgLUW0+vcNJmwOp1JcnAxrRoT+FGlHO8AweAzYjNU0bUmSOAeJiIgompRgws8sJFE3o9dqkGsyDOh19UckRdriiCraXWyA+5gtVoXaPTYH7K7jO3axERERRUGwgmaxZiTfHP+9ceEIt0hbkiT3EVsMA6RYDYsU2SOtxj38M94YIBERUVIzGQKvG3G3+CfP8RoAmJUjNnU1SBa7E1aHXKQeizZ5ZR9bjDrZPGcgJco6GAZIRESU1IKtG1H2sCVRBxvgEfQFWaHiSWSP5AxM7AKkWE3TbutJrCnaAAMkIiJKcu56HT8ZpHYxAyl5OtgA97JatUdsnnvMYnGU6F5YG6sjNtf1GxOj/ghggERERElOFGn7zyAl35oRwLMGSd0RW1sMC7QBz4W1sckgtSdYBxvAAImIiJKcOI7y1/F1ShyxJWkNktoutvYYrRkR8mJepJ1YM5AABkhERJTkxHFUd7Ai7SQ7YvPsYgu0QsWTMgMpRi3y7jb/WBVpM4NEREQUVWLdiL+CZlGDlGxHbCIrZndKSndaMLHawya4i7Rjk0GK9fVHggESEREltUAzg5xOScl4JNsRm+csIDV1SO49bLHJwOS7irQ7LHb02tTVRX1+ohUfH2pSdV+RQYrFiIJIMUAiIqKklq5kkLzfuJu7rbA7JWg07iOiZKHXaZGaIr9Fq+lkExmYWBVpZ6bpoXd1xzWr6GRzOiUseGo7Fjy1XdWxnOccpETBAImIiJKaSalB8g4kxPFarsmAFF3yvd2Zw1g30hbjIyqNRhPWMdvJth60dtvgcEo42tQV8v6xzoBFIvm+Y4iIiDyYA7TEiyGRBUlWfySEs24kVotqPblnIYXOCB055Q6Kalt6Qt6fGSQiIqIoC1Sk7V4zklwdbIJ7mraKGqQBmESd7wo0mzrUBEidyv+faOkOeX9x/exiIyIiihKRaen2CSROJemQSMG9jy2MDFIMMzD56a4jNhU1SEc8jtVOhJFBYhcbERFRlKQHGBTZ2J6ce9iE9DBqkGJdpA2Et4/N84hNXYDEDBIREVFUKatGfAOkJM8ghVeDJI7YYhkgqZ+mHc4Rm8MpocMS++sPV9wDpFWrVqGiogKpqamYPn06tm/fHvC+TzzxBGbOnImcnBzk5OSgsrKyz/07OzuxePFiDB06FGlpaRg3bhzWrFnjdZ/6+nrccMMNKC4uRnp6Os477zz87W9/i8nzIyKi2PKs1XE63VOnRYCUbItqBbNBXYAkSVLMu9gAIM91xBZqYW231Y6Tbb3K72tbe7z+XHx5ZsiYQXJ55ZVXsGTJEixbtgy7du3CxIkTMWfOHDQ2Nvq9/+bNm3Hddddh06ZN2Lp1K8rKyjB79mzU1tYq91myZAnWr1+PF154Afv378cdd9yBxYsX4+2331bus2DBAhw4cABvv/029u7di6uuugrXXnstdu/eHfPnTERE0SW62ACgx2OIYWOS7mETTEb/8518dVsdcLgCkJgWaSsZpOBHbKKtPystBTqtBjaHpASr/ojjQYNeC6NeF/B+Ay2uAdLDDz+Mm266CYsWLVIyPSaTCU899ZTf+7/44ou49dZbMWnSJIwdOxZPPvkknE4nNm7cqNznP//5DxYuXIiLL74YFRUV+PGPf4yJEyd6ZZr+85//4Kc//SmmTZuGESNG4H//93+RnZ2NnTt3xvw5ExFRdKWmaOGaYah0skmSlLRrRgSzyiM2UaCt12qQlhK7AEPtPjZRfzSq0IySLDl7F+yYzT1FO3GO14A4BkhWqxU7d+5EZWWl+2K0WlRWVmLr1q2qHqO7uxs2mw25ubnKbRdeeCHefvtt1NbWQpIkbNq0CQcPHsTs2bO97vPKK6+gubkZTqcTa9euRW9vLy6++OKAX8tisaC9vd3rFxERxZ9Go1EKtcUspPZeOyx2eYdZsi2qFdQWaYsW+ay0FGg0mphdj+egyGALdEWANCI/HUNz0gAEL9R2d7AlzvEaEMcAqampCQ6HA0VFRV63FxUVob6+XtVj3HnnnSgtLfUKsh577DGMGzcOQ4cOhcFgwNy5c7Fq1SpcdNFFyn1effVV2Gw25OXlwWg04uabb8a6deswatSogF9r+fLlyMrKUn6VlZWF+YyJiChWTD4t8adcx2sZRj3SDIlzbBMOtUXaAzEkEgByXTVIdqekBGX+HG2SC7RHFJgxNMcEIHgGSRSYZyRQgTaQAEXakVqxYgXWrl2LdevWITXV/dPBY489hm3btuHtt9/Gzp078dBDD+G2227DBx98oNznnnvuQWtrKz744APs2LEDS5YswbXXXou9e/cG/Hp333032tralF81NTUxfX5ERKSeyCCJWUjieK0gSeuPAM85SMFrkNq6ByYDk5qiQ4YraAs2TVvMQBpR4M4g1bYmXwYpbleTn58PnU6HhoYGr9sbGhpQXFwc9HMffPBBrFixAh988AEmTJig3N7T04Nf//rXWLduHS6//HIAwIQJE7Bnzx48+OCDqKysxOHDh/H4449j3759OOeccwAAEydOxL///W+sWrWqT8ebYDQaYTQm7180IqLBzDfbkuwt/oBnd15iZJAA+Zitw2LH6U4rRhb0/bgkSV5HbKK+KPgRW+LNQALimEEyGAyYMmWKV4G1KLieMWNGwM974IEHcN9992H9+vWYOnWq18dsNhtsNhu0Wu+npdPp4HTKZ9Hd3XKaL9h9iIgoufiuG1E62JK0/ggIo0h7AFr8hbwQnWynOizotNih1QDD8kyqapAG8vrDEddwbcmSJVi4cCGmTp2KadOm4dFHH0VXVxcWLVoEQG7HHzJkCJYvXw4AWLlyJZYuXYqXXnoJFRUVSq2S2WyG2WxGZmYmZs2ahV/96ldIS0tDeXk5tmzZgueeew4PP/wwAGDs2LEYNWoUbr75Zjz44IPIy8vDm2++iQ0bNuCdd96JzwtBRET9oqwbsXgfsSVzBik9wBJeXwMxJFLIdxVqB+pkO+zKHpXlmmDU6zAk23XE1iLPQtJq+xaRiyGRiZZBiuvVzJ8/H6dOncLSpUtRX1+PSZMmYf369UrhdnV1tVemZ/Xq1bBarbjmmmu8HmfZsmW49957AQBr167F3Xffje9///tobm5GeXk57r//fvzkJz8BAKSkpOCf//wn7rrrLnz7299GZ2cnRo0ahWeffRbf/OY3B+aJExFRVPl2fLkX1SZvgCRqkEJ3sYkjtti/pecprf7+h0UeEQXa+ekAgJKsVOi0GlgdTpzqtKDIz+Jgcf0ZzCB5W7x4MRYvXuz3Y5s3b/b6/bFjx0I+XnFxMZ5++umg9xk9ejQnZxMRDSLpriO27kF0xOZZVyVJUsAW/oGYoi24F9b6zyAp9UcFZgCAXqdFcWYqalt7cKKl22+A5J6DFPeQxEvSdrEREREJnutGgMFVpG13SrA6AtfIDmyRdvB9bGIH24iCdOW2UHVI4voTLYPEAImIiJKe2XcOUnvyH7Gle8xvClaHJGYSDUQGxnNYpD9Ki3++WbnNPQspUICUeItqAQZIREQ0CJg8Cpp7rA6l8DdZF9UC8vFUaor8Nh2sk01kYLIGIoOU7qpB8nPEZrE7UNMsd4qP9JtB8j8sskPJIPGIjYiIKKo863VE/ZFRr024upZwmVWsGxnII7aCDFcXm5/ls9Wnu+GU5Gsu8DjaDHXExjlIREREMZLuMQfJs4MtlrvJBoJSWxUkQHJP0h64DFJ7rx1Wu3dd1OFT7gnanq+7OGKrDXTElqBzkBggERFR0jN5rBpxz0BK3uM1QcmMWf3XIDmdknKcOBBt/llpKdC5Zhk1d3nXIfm2+AtKBqlVnoXkyWJ3KEuFGSARERFFmdnPEVsyd7AJvsXnvjqtdkiumGMgAgytVqMsrfUdFnnUlUEa7lGgDXjMQrI7+3yOOF4DADOP2IiIiKLLZPRzxDYIAiTfAZi+xPGUUa9FaorO732iLU+ZheSbQXIfsXkSs5AAoMbnmE0ESGajXslMJQoGSERElPTSDe5VI8oRm5+hhMnGdwmvr6oG+Vgrx2QYsGvKF9O0fQq1/c1AEoYE6GRL1A42gAESERENAukeaznEEVvBYMggGYIfsT350REAwDfPLRmwaxL72Dynabd0WdHiKhYfnt83QArUyeae4ZRY9UcAAyQiIhoERAbJYneivm3w1CAFK9Lee6INHx86DZ1Wgx/OHD5g1+RvmrYo0C7NSlUK5j0FGhbJDBIREVEMiRokADjuGlY4GLrYzEGO2P78r8MAgP+eWIoh2WkDdk1imrbnwtrDPjvYfAUaFpmoM5AABkhERDQIGPU6pOjkIl8xnyeZ14wIgYq0q09345976wAAN80cMaDXlO+aheR5xHbklP8CbUEESL6zkAZyyGW4GCAREdGg4Hm0o9dqkDuAhcuxEqhI+68fHYFTAi46qwDjSjMH9Jr87WNTCrT91B8BQJk4YvOZhdTODBIREVFsieMoQO600iZY23gk3EXa7hqk5i4rXtlRAwD4yUUDmz0C3DVInjON3C3+/o/YirNSodXI2T3PPW6JOkUbYIBERESDhMngrkMaDMdrgGeRtjuD9NzWY+i1OXHukCzMGJk34NeU75FBkiQJdocTx08HP2JL0WlRktW3k81dg8QAiYiIKCZMHhmkwdDBBvQt0u6xOvDsf44BAG6eNSIuu+bEPjarw4kOix0nWnpgc0gw6rUozQpcLD7ET6s/u9iIiIhizOzRyVYwCDrYAM8aJPmI7bWdNWjptmFYrglzzymOyzWlGXTK0d/pTqvS4j88Pz3osebQ7L6dbCzSJiIiijHPIu3Bk0FyD8C0O5x48t9HAQA/mjkcel383sLds5AsITvYBH/DItnmT0REFGPpg7AGSQR9XRY73t1Xj+rmbuSYUvCdKWVxvS7PWUhKgXa+/wJtwd+wSCWDxBokIiKi2Ej3qkEaXEdsdqeEVZsOAQAWXliBNMPALKYNRNQhNXVagu5g8+RvWKTIIGUmYAYp8a6IiIgoAumDsEjbMyv2VX0HUlO0WDCjIn4X5FKQ4e5kOxJiirYgMki1LT2QJHkWErvYiIiIYmwwtvnrdVqkprjfqudPLUNuevwHYIoM0vHTXWjskOcahcogiVlIFrsTpzot6LY64HANjcxMS7x8DQMkIiIaFERLvEYjD4ocLMTz0mqAHw3wWpFARA3Sp8ebAcivd6g6IoNei+JM+ejzREuPkj3SaTVIS4nvkaE/DJCIiGhQEAXNuSYDUuLY4RVt4nl989wSlOWa4nw1MtHFVtMsF1yHyh4JnsdsnjOQ4jHPKZTB8x1ERERntHRXS3zBIKk/EiaVZSPdoMNtXx8V70tR5Psc841UHSC5W/0TuYMNYJE2ERENEpPLcpBjSsHscUXxvpSoenT+JHRY7MhKoGGKeT5HmKFa/AXPTraxJRkAEnMGEsAAiYiIBolheSbs/N9vDIoltZ60Wk1CBUeAex+bMDxfXQbJc91IIi+qBXjERkREg8hgC44SVbbJAM+XOtwapBMt3Qk9RRtggERERERh0mk1yrgBvVajunjcXw1SIs5AAhggERERUQTELKRheSbVXYMlWWnQuGYhHXUNmEzEGUgAAyQiIiKKgJiFpLZAG/CehbS/vh0AM0hEREQ0iIhONrUt/oI4ZjvYIO9wS8Q9bAADJCIiIorAVZOH4JzSTHx7YmlYnycKta12J4DE7WJLzLCNiIiIEtrXxxbi62MLw/48kUES2MVGREREZzzfACkzwWY8CQyQiIiIaMCIIzaBGSQiIiI64w3J9j1iYwaJiIiIznAl2anQeEzhZhcbERERnfGMeh2KMlKV3zODRERERAR3oXZqihYGfWKGIol5VURERDRoiQApUbNHAAMkIiIiGmCiky1RO9gABkhEREQ0wJhBIiIiIvJx0VkFGJ6fjm9PKIn3pQSUuLktIiIiGpRKs9Ow6ZcXx/sygmIGiYiIiMgHAyQiIiIiHwyQiIiIiHwwQCIiIiLywQCJiIiIyAcDJCIiIiIfDJCIiIiIfDBAIiIiIvIR9wBp1apVqKioQGpqKqZPn47t27cHvO8TTzyBmTNnIicnBzk5OaisrOxz/87OTixevBhDhw5FWloaxo0bhzVr1vR5rK1bt+KSSy5Beno6MjMzcdFFF6Gnpyfqz4+IiIiST1wDpFdeeQVLlizBsmXLsGvXLkycOBFz5sxBY2Oj3/tv3rwZ1113HTZt2oStW7eirKwMs2fPRm1trXKfJUuWYP369XjhhRewf/9+3HHHHVi8eDHefvtt5T5bt27F3LlzMXv2bGzfvh2ffvopFi9eDK027vEiERERJQCNJElSvL749OnTcf755+Pxxx8HADidTpSVleGnP/0p7rrrrpCf73A4kJOTg8cffxwLFiwAAIwfPx7z58/HPffco9xvypQpuOyyy/Db3/4WAHDBBRfgG9/4Bu67776Ir729vR1ZWVloa2tDZmZmxI9DREREA0ft+3fcUiZWqxU7d+5EZWWl+2K0WlRWVmLr1q2qHqO7uxs2mw25ubnKbRdeeCHefvtt1NbWQpIkbNq0CQcPHsTs2bMBAI2Njfjkk09QWFiICy+8EEVFRZg1axY++uijoF/LYrGgvb3d6xcRERENTnELkJqamuBwOFBUVOR1e1FREerr61U9xp133onS0lKvIOuxxx7DuHHjMHToUBgMBsydOxerVq3CRRddBAA4cuQIAODee+/FTTfdhPXr1+O8887DpZdeiqqqqoBfa/ny5cjKylJ+lZWVhfuUiYiIKEkkbdHNihUrsHbtWqxbtw6pqanK7Y899hi2bduGt99+Gzt37sRDDz2E2267DR988AEA+RgPAG6++WYsWrQIkydPxiOPPIIxY8bgqaeeCvj17r77brS1tSm/ampqYvsEiYiIKG708frC+fn50Ol0aGho8Lq9oaEBxcXFQT/3wQcfxIoVK/DBBx9gwoQJyu09PT349a9/jXXr1uHyyy8HAEyYMAF79uzBgw8+iMrKSpSUlAAAxo0b5/WYZ599NqqrqwN+TaPRCKPRqPxelG7xqI2IiCh5iPftUCXYcQuQDAYDpkyZgo0bN2LevHkA5OzOxo0bsXjx4oCf98ADD+D+++/He++9h6lTp3p9zGazwWaz9elG0+l0SuaooqICpaWlOHDggNd9Dh48iMsuu0z19Xd0dAAAj9qIiIiSUEdHB7KysgJ+PG4BEiC35C9cuBBTp07FtGnT8Oijj6KrqwuLFi0CACxYsABDhgzB8uXLAQArV67E0qVL8dJLL6GiokKpVTKbzTCbzcjMzMSsWbPwq1/9CmlpaSgvL8eWLVvw3HPP4eGHHwYAaDQa/OpXv8KyZcswceJETJo0Cc8++yy++uorvP7666qvvbS0FDU1NcjIyIBGo4naa9Le3o6ysjLU1NSwO04lvmbh4esVPr5m4eHrFT6+ZuHpz+slSRI6OjpQWloa8o5x9dhjj0nDhg2TDAaDNG3aNGnbtm3Kx2bNmiUtXLhQ+X15ebkEoM+vZcuWKfepq6uTbrzxRqm0tFRKTU2VxowZIz300EOS0+n0+rrLly+Xhg4dKplMJmnGjBnSv//971g/VVXa2tokAFJbW1u8LyVp8DULD1+v8PE1Cw9fr/DxNQvPQLxecZ2DRH1xvlL4+JqFh69X+PiahYevV/j4moVnIF6vpO1iIyIiIooVBkgJxmg0YtmyZV4dcxQcX7Pw8PUKH1+z8PD1Ch9fs/AMxOvFIzYiIiIiH8wgEREREflggERERETkgwESERERkQ8GSEREREQ+GCAlmFWrVqGiogKpqamYPn06tm/fHu9LShj/+te/8O1vfxulpaXQaDR48803vT4uSRKWLl2KkpISpKWlobKyElVVVfG52ASwfPlynH/++cjIyEBhYSHmzZvXZ8VOb28vbrvtNuTl5cFsNuPqq6/usx/xTLF69WpMmDABmZmZyMzMxIwZM/Duu+8qH+drFdyKFSug0Whwxx13KLfxNfN27733QqPReP0aO3as8nG+Xn3V1tbi+uuvR15eHtLS0nDuuedix44dysdj+e8+A6QE8sorr2DJkiVYtmwZdu3ahYkTJ2LOnDlobGyM96UlhK6uLkycOBGrVq3y+/EHHngAf/zjH7FmzRp88sknSE9Px5w5c9Db2zvAV5oYtmzZgttuuw3btm3Dhg0bYLPZMHv2bHR1dSn3+fnPf46///3veO2117BlyxacPHkSV111VRyvOn6GDh2KFStWYOfOndixYwcuueQSXHHFFfjiiy8A8LUK5tNPP8Wf//xnr+XhAF8zf8455xzU1dUpvz766CPlY3y9vLW0tOBrX/saUlJS8O677+LLL7/EQw89hJycHOU+Mf13P2Yzuils06ZNk2677Tbl9w6HQyotLZWWL18ex6tKTACkdevWKb93Op1ScXGx9Pvf/165rbW1VTIajdLLL78chytMPI2NjRIAacuWLZIkya9PSkqK9Nprryn32b9/vwRA2rp1a7wuM6Hk5ORITz75JF+rIDo6OqTRo0dLGzZskGbNmiX97Gc/kySJ31/+LFu2TJo4caLfj/H16uvOO++U/uu//ivgx2P97z4zSAnCarVi586dqKysVG7TarWorKzE1q1b43hlyeHo0aOor6/3ev2ysrIwffp0vn4ubW1tAIDc3FwAwM6dO2Gz2bxes7Fjx2LYsGFn/GvmcDiwdu1adHV1YcaMGXytgrjttttw+eWXe702AL+/AqmqqkJpaSlGjBiB73//+6iurgbA18uft99+G1OnTsV3vvMdFBYWYvLkyXjiiSeUj8f6330GSAmiqakJDocDRUVFXrcXFRWhvr4+TleVPMRrxNfPP6fTiTvuuANf+9rXMH78eADya2YwGJCdne113zP5Ndu7dy/MZjOMRiN+8pOfYN26dRg3bhxfqwDWrl2LXbt2Yfny5X0+xtesr+nTp+OZZ57B+vXrsXr1ahw9ehQzZ85ER0cHXy8/jhw5gtWrV2P06NF47733cMstt+D222/Hs88+CyD2/+7r+/0IRJTwbrvtNuzbt8+r3oH6GjNmDPbs2YO2tja8/vrrWLhwIbZs2RLvy0pINTU1+NnPfoYNGzYgNTU13peTFC677DLl/ydMmIDp06ejvLwcr776KtLS0uJ4ZYnJ6XRi6tSp+N3vfgcAmDx5Mvbt24c1a9Zg4cKFMf/6zCAliPz8fOh0uj4dCw0NDSguLo7TVSUP8Rrx9etr8eLFeOedd7Bp0yYMHTpUub24uBhWqxWtra1e9z+TXzODwYBRo0ZhypQpWL58OSZOnIg//OEPfK382LlzJxobG3HeeedBr9dDr9djy5Yt+OMf/wi9Xo+ioiK+ZiFkZ2fjrLPOwqFDh/g95kdJSQnGjRvnddvZZ5+tHEvG+t99BkgJwmAwYMqUKdi4caNym9PpxMaNGzFjxow4XllyGD58OIqLi71ev/b2dnzyySdn7OsnSRIWL16MdevW4cMPP8Tw4cO9Pj5lyhSkpKR4vWYHDhxAdXX1Gfua+XI6nbBYLHyt/Lj00kuxd+9e7NmzR/k1depUfP/731f+n69ZcJ2dnTh8+DBKSkr4PebH1772tT6jSQ4ePIjy8nIAA/Dvfr/LvClq1q5dKxmNRumZZ56RvvzyS+nHP/6xlJ2dLdXX18f70hJCR0eHtHv3bmn37t0SAOnhhx+Wdu/eLR0/flySJElasWKFlJ2dLb311lvS559/Ll1xxRXS8OHDpZ6enjhfeXzccsstUlZWlrR582aprq5O+dXd3a3c5yc/+Yk0bNgw6cMPP5R27NghzZgxQ5oxY0Ycrzp+7rrrLmnLli3S0aNHpc8//1y66667JI1GI73//vuSJPG1UsOzi02S+Jr5+sUvfiFt3rxZOnr0qPTxxx9LlZWVUn5+vtTY2ChJEl8vX9u3b5f0er10//33S1VVVdKLL74omUwm6YUXXlDuE8t/9xkgJZjHHntMGjZsmGQwGKRp06ZJ27Zti/clJYxNmzZJAPr8WrhwoSRJcsvnPffcIxUVFUlGo1G69NJLpQMHDsT3ouPI32sFQHr66aeV+/T09Ei33nqrlJOTI5lMJunKK6+U6urq4nfRcfSDH/xAKi8vlwwGg1RQUCBdeumlSnAkSXyt1PANkPiaeZs/f75UUlIiGQwGaciQIdL8+fOlQ4cOKR/n69XX3//+d2n8+PGS0WiUxo4dK/3lL3/x+ngs/93XSJIk9T8PRURERDR4sAaJiIiIyAcDJCIiIiIfDJCIiIiIfDBAIiIiIvLBAImIiIjIBwMkIiIiIh8MkIiIiIh8MEAiIopQRUUFHn300XhfBhHFAAMkIkoKN954I+bNmwcAuPjii3HHHXcM2Nd+5plnkJ2d3ef2Tz/9FD/+8Y8H7DqIaODo430BRETxYrVaYTAYIv78goKCKF4NESUSZpCIKKnceOON2LJlC/7whz9Ao9FAo9Hg2LFjAIB9+/bhsssug9lsRlFREW644QY0NTUpn3vxxRdj8eLFuOOOO5Cfn485c+YAAB5++GGce+65SE9PR1lZGW699VZ0dnYCADZv3oxFixahra1N+Xr33nsvgL5HbNXV1bjiiitgNpuRmZmJa6+9Fg0NDcrH7733XkyaNAnPP/88KioqkJWVhe9+97vo6OiI7YtGRGFjgERESeUPf/gDZsyYgZtuugl1dXWoq6tDWVkZWltbcckll2Dy5MnYsWMH1q9fj4aGBlx77bVen//ss8/CYDDg448/xpo1awAAWq0Wf/zjH/HFF1/g2WefxYcffoj/9//+HwDgwgsvxKOPPorMzEzl6/3yl7/sc11OpxNXXHEFmpubsWXLFmzYsAFHjhzB/Pnzve53+PBhvPnmm3jnnXfwzjvvYMuWLVixYkWMXi0iihSP2IgoqWRlZcFgMMBkMqG4uFi5/fHHH8fkyZPxu9/9TrntqaeeQllZGQ4ePIizzjoLADB69Gg88MADXo/pWc9UUVGB3/72t/jJT36CP/3pTzAYDMjKyoJGo/H6er42btyIvXv34ujRoygrKwMAPPfcczjnnHPw6aef4vzzzwcgB1LPPPMMMjIyAAA33HADNm7ciPvvv79/LwwRRRUzSEQ0KHz22WfYtGkTzGaz8mvs2LEA5KyNMGXKlD6f+8EHH+DSSy/FkCFDkJGRgRtuuAGnT59Gd3e36q+/f/9+lJWVKcERAIwbNw7Z2dnYv3+/cltFRYUSHAFASUkJGhsbw3quRBR7zCAR0aDQ2dmJb3/721i5cmWfj5WUlCj/n56e7vWxY8eO4Vvf+hZuueUW3H///cjNzcVHH32EH/7wh7BarTCZTFG9zpSUFK/fazQaOJ3OqH4NIuo/BkhElHQMBgMcDofXbeeddx7+9re/oaKiAnq9+n/adu7cCafTiYceegharZxUf/XVV0N+PV9nn302ampqUFNTo2SRvvzyS7S2tmLcuHGqr4eIEgOP2Igo6VRUVOCTTz7BsWPH0NTUBKfTidtuuw3Nzc247rrr8Omnn+Lw4cN47733sGjRoqDBzahRo2Cz2fDYY4/hyJEjeP7555Xibc+v19nZiY0bN6Kpqcnv0VtlZSXOPfdcfP/738euXbuwfft2LFiwALNmzcLUqVOj/hoQUWwxQCKipPPLX/4SOp0O48aNQ0FBAaqrq1FaWoqPP/4YDocDs2fPxrnnnos77rgD2dnZSmbIn4kTJ+Lhhx/GypUrMX78eLz44otYvny5130uvPBC/OQnP8H8+fNRUFDQp8gbkI/K3nrrLeTk5OCiiy5CZWUlRowYgVdeeSXqz5+IYk8jSZIU74sgIiIiSiTMIBERERH5YIBERERE5IMBEhEREZEPBkhEREREPhggEREREflggERERETkgwESERERkQ8GSEREREQ+GCARERER+WCAREREROSDARIRERGRDwZIRERERD7+P76MlYREC+fQAAAAAElFTkSuQmCC",
>>>>>>> 0d3cb43b47e58319d87b07342a9f795c54b08896
      "text/plain": [
       "<Figure size 640x480 with 1 Axes>"
      ]
     },
     "metadata": {},
     "output_type": "display_data"
    }
   ],
   "source": [
    "n = len(training_data)\n",
    "k = n//2\n",
    "\n",
    "initial_eta = 0.01\n",
    "decay_rate = 0.96\n",
    "decay_step = 100\n",
    "decay = 0.001\n",
    "\n",
    "iterations = 1\n",
    "losses = []\n",
    "previous_loss = 0\n",
    "iteration_time = []\n",
    "# np.random.seed(42)\n",
    "print(net.test(test_data))\n",
    "while True:\n",
    "    time1 = time.process_time()\n",
    "    random_seed = random.randint(0, n)\n",
    "    np.random.seed(random_seed)\n",
    "    indices = np.random.choice(n, k, replace=False)\n",
    "    temp_X_train = X_train[indices]\n",
    "    temp_y_train = y_train[indices]\n",
    "    training_inputs = [np.reshape(x, (len(x), 1)) for x in temp_X_train]\n",
    "    training_results = [np.reshape(y, (1, 1)) for y in temp_y_train]\n",
    "    temp_training_data = list(zip(training_inputs, training_results))\n",
    "\n",
    "    eta = initial_eta / (1 + decay * iterations)\n",
    "    # eta = initial_eta * decay_rate ** (iterations / decay_step)\n",
    "    net.train(temp_training_data, 1, eta)\n",
    "    temp = Network.loss(net, temp_training_data)\n",
    "    losses.append(temp)\n",
    "    # if abs(temp - previous_loss) < 1e-7 or iterations == 8000:\n",
    "    #     break\n",
<<<<<<< HEAD
    "    if(iterations == 200):\n",
=======
    "    if(iterations == 60):\n",
>>>>>>> 0d3cb43b47e58319d87b07342a9f795c54b08896
    "       break\n",
    "    previous_loss = temp\n",
    "    iterations += 1\n",
    "    time2 = time.process_time()\n",
    "    iteration_time.append(time2 - time1)\n",
    "\n",
    "print(\"Number of iterations: \", iterations)\n",
    "print(\"Average iteration time: \", np.mean(iteration_time))\n",
    "print(\"Total time: \", np.sum(iteration_time))\n",
    "print(net.test(test_data))\n",
    "plt.figure()\n",
    "plt.plot(losses)\n",
    "plt.xlabel('Iteration')\n",
    "plt.ylabel('Loss')\n",
    "plt.title('Training Loss')\n",
    "plt.show()"
   ]
  },
  {
   "cell_type": "code",
<<<<<<< HEAD
   "execution_count": 24,
=======
   "execution_count": 41,
>>>>>>> 0d3cb43b47e58319d87b07342a9f795c54b08896
   "metadata": {},
   "outputs": [
    {
     "name": "stdout",
     "output_type": "stream",
     "text": [
<<<<<<< HEAD
      "[[0.85104672]]\n",
=======
      "[[0.94524997]]\n",
>>>>>>> 0d3cb43b47e58319d87b07342a9f795c54b08896
      "Positive\n"
     ]
    }
   ],
   "source": [
<<<<<<< HEAD
    "temp = get_vector_of_sentence(\"The movie was bad\", model)\n",
=======
    "temp = get_vector_of_sentence(\"disappointed\", model)\n",
>>>>>>> 0d3cb43b47e58319d87b07342a9f795c54b08896
    "temp = np.reshape(temp, (len(temp), 1))\n",
    "prediction = net.feedforward(temp)\n",
    "print(prediction)\n",
    "if prediction >= 0:\n",
    "    print(\"Positive\")\n",
    "else:\n",
    "    print(\"Negative\")"
   ]
  },
  {
   "cell_type": "code",
   "execution_count": 25,
   "metadata": {},
   "outputs": [
    {
     "data": {
      "text/plain": [
       "0.536333802156587"
      ]
     },
     "execution_count": 25,
     "metadata": {},
     "output_type": "execute_result"
    }
   ],
   "source": [
    "net.test(test_data)"
   ]
  },
  {
   "cell_type": "code",
   "execution_count": null,
   "metadata": {},
   "outputs": [],
   "source": []
  }
 ],
 "metadata": {
  "kernelspec": {
   "display_name": "Python 3 (ipykernel)",
   "language": "python",
   "name": "python3"
  },
  "language_info": {
   "codemirror_mode": {
    "name": "ipython",
    "version": 3
   },
   "file_extension": ".py",
   "mimetype": "text/x-python",
   "name": "python",
   "nbconvert_exporter": "python",
   "pygments_lexer": "ipython3",
   "version": "3.11.4"
  }
 },
 "nbformat": 4,
 "nbformat_minor": 4
}
