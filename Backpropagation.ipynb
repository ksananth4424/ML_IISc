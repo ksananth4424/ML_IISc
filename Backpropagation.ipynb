{
 "cells": [
  {
   "cell_type": "markdown",
   "id": "9cc95615-5184-46c5-8568-bdd6a9568cb2",
   "metadata": {},
   "source": [
    "## Checking basic derivation\n",
    "\n",
    "Define a basic function and check changes by incrementing tiny values"
   ]
  },
  {
   "cell_type": "code",
   "execution_count": 1,
   "id": "0be64c8d-db87-4c6e-8618-645881d4662d",
   "metadata": {},
   "outputs": [],
   "source": [
    "import math\n",
    "import numpy as np\n",
    "import matplotlib.pyplot as plt\n",
    "%matplotlib inline"
   ]
  },
  {
   "cell_type": "code",
   "execution_count": 2,
   "id": "25f4da39-c9f2-431a-ad09-11b58d9f7312",
   "metadata": {},
   "outputs": [
    {
     "data": {
      "text/plain": [
       "12"
      ]
     },
     "execution_count": 2,
     "metadata": {},
     "output_type": "execute_result"
    }
   ],
   "source": [
    "def samplefunction(x):\n",
    "    return 4*x**2 + 4*x + 4\n",
    "\n",
    "samplefunction(1)"
   ]
  },
  {
   "cell_type": "code",
   "execution_count": 3,
   "id": "9250058e-b184-4c11-b8d1-bcebb1d554a5",
   "metadata": {},
   "outputs": [
    {
     "data": {
      "text/plain": [
       "[<matplotlib.lines.Line2D at 0x233ffa6f410>]"
      ]
     },
     "execution_count": 3,
     "metadata": {},
     "output_type": "execute_result"
    },
    {
     "data": {
      "image/png": "[encoded data removed]",
      "text/plain": [
       "<Figure size 640x480 with 1 Axes>"
      ]
     },
     "metadata": {},
     "output_type": "display_data"
    }
   ],
   "source": [
    "x_points = np.arange(-10, 10.2, 0.2)\n",
    "y_points = samplefunction(x_points)\n",
    "plt.plot(x_points, y_points)"
   ]
  },
  {
   "cell_type": "code",
   "execution_count": 4,
   "id": "abc46f76-1455-403e-9978-bb1625950a4f",
   "metadata": {},
   "outputs": [
    {
     "name": "stdout",
     "output_type": "stream",
     "text": [
      "Value of derivative when incremented by 0.00001: 8.000039999966901\n",
      "Value of derivative when incremented by 0.000000001: 7.999999773744547\n"
     ]
    }
   ],
   "source": [
    "x = 0.5\n",
    "\n",
    "# d(samplefunction(x))/dx = 8*x + 4\n",
    "# when x = 0.5 => 8*0.5 + 4 = 8\n",
    "\n",
    "h1 = 0.00001\n",
    "h2 = 0.000000001\n",
    "print(f\"Value of derivative when incremented by 0.00001: {(samplefunction(x+h1) - samplefunction(x))/h1}\")\n",
    "print(f\"Value of derivative when incremented by 0.000000001: {(samplefunction(x+h2) - samplefunction(x))/h2}\")"
   ]
  },
  {
   "cell_type": "markdown",
   "id": "4e526dc5-eb00-4957-a662-605a5a8a6497",
   "metadata": {},
   "source": [
    "## Define graphviz\n",
    "\n",
    "A library to plot graphs, here it will help us to plot the network"
   ]
  },
  {
   "cell_type": "code",
   "execution_count": 38,
   "id": "1797bfd4-adef-4d95-acf6-481931b7a21d",
   "metadata": {},
   "outputs": [],
   "source": [
    "from graphviz import Digraph\n",
    "\n",
    "#construct nodes and edges\n",
    "def construct(node, nodes, edges):\n",
    "    if node not in nodes:\n",
    "        nodes.add(node)\n",
    "        for child in node._prev:\n",
    "            edges.add((child, node))\n",
    "            construct(child, nodes, edges)\n",
    "\n",
    "#calls construct for the first time\n",
    "def dfs(root):\n",
    "    nodes = set()\n",
    "    edges = set()\n",
    "    construct(root, nodes, edges)\n",
    "    return nodes, edges\n",
    "\n",
    "#constructs the graph\n",
    "def graph(root):\n",
    "    dot = Digraph(format='svg', graph_attr={'rankdir': 'LR'})\n",
    "    nodes, edges = dfs(root)\n",
    "    for n in nodes:\n",
    "        uid = str(id(n))\n",
    "        dot.node(name = uid, label = \"{ %s | data %.4f | grad %.4f }\" % (n.label, n.data, n.grad), shape='record')\n",
    "        if n._op:\n",
    "          dot.node(name = uid + n._op, label = n._op)\n",
    "          dot.edge(uid + n._op, uid)\n",
    "\n",
    "    for n1, n2 in edges:\n",
    "        dot.edge(str(id(n1)), str(id(n2)) + n2._op)\n",
    "\n",
    "    return dot"
   ]
  },
  {
   "cell_type": "markdown",
   "id": "730a83fe-c237-44e5-bf7b-c7a234e8bd88",
   "metadata": {},
   "source": [
    "## Define class for each variable\n",
    "\n",
    "This is a wrapper around each variable which helps us to do various operations on it based on our definitions"
   ]
  },
  {
   "cell_type": "code",
   "execution_count": 55,
   "id": "86197ee1-5e74-4f5b-9129-efaf085bb7a7",
   "metadata": {},
   "outputs": [
    {
     "data": {
      "text/plain": [
       "Variable(value=-5.0)"
      ]
     },
     "execution_count": 55,
     "metadata": {},
     "output_type": "execute_result"
    }
   ],
   "source": [
    "class Variable:\n",
    "\n",
    "    def __init__(self, value, op='', name=''):\n",
    "        self.value = value\n",
    "        self.grad = 0.0\n",
    "        self.op = op\n",
    "        self.name = name\n",
    "\n",
    "    def __repr__(self):\n",
    "        if(self.name != ''):\n",
    "            return f\"Variable(value={self.value}, name='{self.name}')\"\n",
    "        return f\"Variable(value={self.value})\"\n",
    "\n",
    "    def __add__(self, next):\n",
    "        out = Variable(self.value + next.value, '+')\n",
    "        return out\n",
    "\n",
    "    def __mul__(self, next):\n",
    "        out = Variable(self.value * next.value, '*')\n",
    "        return out\n",
    "\n",
    "a = Variable(2.0)\n",
    "b = Variable(-3.0)\n",
    "c = Variable(1.0)\n",
    "a*b + c"
   ]
  },
  {
   "cell_type": "code",
   "execution_count": null,
   "id": "fba97833-71eb-4f42-890e-df6ca45726fd",
   "metadata": {},
   "outputs": [],
   "source": []
  }
 ],
 "metadata": {
  "kernelspec": {
   "display_name": "Python 3 (ipykernel)",
   "language": "python",
   "name": "python3"
  },
  "language_info": {
   "codemirror_mode": {
    "name": "ipython",
    "version": 3
   },
   "file_extension": ".py",
   "mimetype": "text/x-python",
   "name": "python",
   "nbconvert_exporter": "python",
   "pygments_lexer": "ipython3",
   "version": "3.11.4"
  }
 },
 "nbformat": 4,
 "nbformat_minor": 5
}
